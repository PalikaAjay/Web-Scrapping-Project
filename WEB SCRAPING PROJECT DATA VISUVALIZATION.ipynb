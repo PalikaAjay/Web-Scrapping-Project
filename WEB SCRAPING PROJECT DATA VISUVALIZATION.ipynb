{
 "cells": [
  {
   "cell_type": "markdown",
   "id": "9a735d3a",
   "metadata": {},
   "source": [
    "### Data Analysis"
   ]
  },
  {
   "cell_type": "markdown",
   "id": "c814f753",
   "metadata": {},
   "source": [
    "#### Import Libraries like Numpy,Pandas,Matplotlib,Seaborn"
   ]
  },
  {
   "cell_type": "code",
   "execution_count": 1,
   "id": "bb4f9b60",
   "metadata": {},
   "outputs": [],
   "source": [
    "import numpy as np\n",
    "import pandas as pd\n",
    "import matplotlib.pyplot as plt\n",
    "import seaborn as sns"
   ]
  },
  {
   "cell_type": "code",
   "execution_count": 2,
   "id": "5a285ffa",
   "metadata": {},
   "outputs": [],
   "source": [
    "df=pd.read_csv('Television.csv')"
   ]
  },
  {
   "cell_type": "code",
   "execution_count": 3,
   "id": "3a38f21b",
   "metadata": {},
   "outputs": [
    {
     "data": {
      "text/html": [
       "<div>\n",
       "<style scoped>\n",
       "    .dataframe tbody tr th:only-of-type {\n",
       "        vertical-align: middle;\n",
       "    }\n",
       "\n",
       "    .dataframe tbody tr th {\n",
       "        vertical-align: top;\n",
       "    }\n",
       "\n",
       "    .dataframe thead th {\n",
       "        text-align: right;\n",
       "    }\n",
       "</style>\n",
       "<table border=\"1\" class=\"dataframe\">\n",
       "  <thead>\n",
       "    <tr style=\"text-align: right;\">\n",
       "      <th></th>\n",
       "      <th>Name of the Product</th>\n",
       "      <th>Specifications</th>\n",
       "      <th>Price</th>\n",
       "      <th>Rating</th>\n",
       "      <th>Operating_System</th>\n",
       "      <th>Brand</th>\n",
       "      <th>Refresh_Rate(inHz)</th>\n",
       "      <th>Speaker_Output(in W)</th>\n",
       "    </tr>\n",
       "  </thead>\n",
       "  <tbody>\n",
       "    <tr>\n",
       "      <th>0</th>\n",
       "      <td>Adsun 80 cm (32 inch) HD Ready LED TV</td>\n",
       "      <td>HD Ready 1366 x 768 Pixels20 W Speaker Output6...</td>\n",
       "      <td>8499.0</td>\n",
       "      <td>3.8</td>\n",
       "      <td>Android</td>\n",
       "      <td>Adsun</td>\n",
       "      <td>60</td>\n",
       "      <td>20</td>\n",
       "    </tr>\n",
       "    <tr>\n",
       "      <th>1</th>\n",
       "      <td>Adsun 60 cm (24 inch) HD Ready LED TV</td>\n",
       "      <td>HD Ready 1366 x 768 Pixels20 W Speaker Output6...</td>\n",
       "      <td>6499.0</td>\n",
       "      <td>3.8</td>\n",
       "      <td>Android</td>\n",
       "      <td>Adsun</td>\n",
       "      <td>60</td>\n",
       "      <td>20</td>\n",
       "    </tr>\n",
       "    <tr>\n",
       "      <th>2</th>\n",
       "      <td>realme 80 cm (32 inch) HD Ready LED Smart Andr...</td>\n",
       "      <td>Netflix|Prime Video|Disney+Hotstar|YoutubeOper...</td>\n",
       "      <td>15999.0</td>\n",
       "      <td>4.3</td>\n",
       "      <td>Android</td>\n",
       "      <td>realme</td>\n",
       "      <td>60</td>\n",
       "      <td>24</td>\n",
       "    </tr>\n",
       "    <tr>\n",
       "      <th>3</th>\n",
       "      <td>realme 108 cm (43 inch) Ultra HD (4K) LED Smar...</td>\n",
       "      <td>Netflix|Prime Video|Disney+Hotstar|YoutubeOper...</td>\n",
       "      <td>29999.0</td>\n",
       "      <td>4.3</td>\n",
       "      <td>Android</td>\n",
       "      <td>realme</td>\n",
       "      <td>60</td>\n",
       "      <td>24</td>\n",
       "    </tr>\n",
       "    <tr>\n",
       "      <th>4</th>\n",
       "      <td>Thomson 9A Series 80 cm (32 inch) HD Ready LED...</td>\n",
       "      <td>Prime Video|Disney+Hotstar|YoutubeOperating Sy...</td>\n",
       "      <td>12499.0</td>\n",
       "      <td>4.4</td>\n",
       "      <td>Android</td>\n",
       "      <td>Thomson</td>\n",
       "      <td>60</td>\n",
       "      <td>24</td>\n",
       "    </tr>\n",
       "    <tr>\n",
       "      <th>...</th>\n",
       "      <td>...</td>\n",
       "      <td>...</td>\n",
       "      <td>...</td>\n",
       "      <td>...</td>\n",
       "      <td>...</td>\n",
       "      <td>...</td>\n",
       "      <td>...</td>\n",
       "      <td>...</td>\n",
       "    </tr>\n",
       "    <tr>\n",
       "      <th>907</th>\n",
       "      <td>Akai 60.96 cm (24 inch) HD Ready LED TV</td>\n",
       "      <td>HD Ready 1366×768 Pixels10W x 2 Speaker Output...</td>\n",
       "      <td>11500.0</td>\n",
       "      <td>4.2</td>\n",
       "      <td>Android</td>\n",
       "      <td>Akai</td>\n",
       "      <td>60</td>\n",
       "      <td>20</td>\n",
       "    </tr>\n",
       "    <tr>\n",
       "      <th>908</th>\n",
       "      <td>Sharp E88 60 cm (24 inch) HD Ready LED TV</td>\n",
       "      <td>HD Ready 1280 x 720 Pixels20 W Speaker Output1...</td>\n",
       "      <td>8999.0</td>\n",
       "      <td>3.7</td>\n",
       "      <td>Android</td>\n",
       "      <td>Sharp</td>\n",
       "      <td>100</td>\n",
       "      <td>20</td>\n",
       "    </tr>\n",
       "    <tr>\n",
       "      <th>909</th>\n",
       "      <td>IMPEX 80 cm (32 inch) HD Ready LED TV</td>\n",
       "      <td>Operating System: HomeOSHD Ready 1366 x 768 Pi...</td>\n",
       "      <td>17490.0</td>\n",
       "      <td>4.3</td>\n",
       "      <td>Android</td>\n",
       "      <td>IMPEX</td>\n",
       "      <td>50</td>\n",
       "      <td>16</td>\n",
       "    </tr>\n",
       "    <tr>\n",
       "      <th>910</th>\n",
       "      <td>Dektron 50 cm (20 inch) HD Ready LED TV</td>\n",
       "      <td>HD Ready 1366 x 768 Pixels16 W Speaker Output6...</td>\n",
       "      <td>7399.0</td>\n",
       "      <td>3.8</td>\n",
       "      <td>Android</td>\n",
       "      <td>Dektron</td>\n",
       "      <td>60</td>\n",
       "      <td>16</td>\n",
       "    </tr>\n",
       "    <tr>\n",
       "      <th>911</th>\n",
       "      <td>AISEN 124 cm (49 inch) Ultra HD (4K) LED Smart TV</td>\n",
       "      <td>Netflix|Disney+Hotstar|YoutubeOperating System...</td>\n",
       "      <td>47900.0</td>\n",
       "      <td>4.2</td>\n",
       "      <td>Android</td>\n",
       "      <td>AISEN</td>\n",
       "      <td>60</td>\n",
       "      <td>16</td>\n",
       "    </tr>\n",
       "  </tbody>\n",
       "</table>\n",
       "<p>912 rows × 8 columns</p>\n",
       "</div>"
      ],
      "text/plain": [
       "                                   Name of the Product  \\\n",
       "0                Adsun 80 cm (32 inch) HD Ready LED TV   \n",
       "1                Adsun 60 cm (24 inch) HD Ready LED TV   \n",
       "2    realme 80 cm (32 inch) HD Ready LED Smart Andr...   \n",
       "3    realme 108 cm (43 inch) Ultra HD (4K) LED Smar...   \n",
       "4    Thomson 9A Series 80 cm (32 inch) HD Ready LED...   \n",
       "..                                                 ...   \n",
       "907            Akai 60.96 cm (24 inch) HD Ready LED TV   \n",
       "908          Sharp E88 60 cm (24 inch) HD Ready LED TV   \n",
       "909              IMPEX 80 cm (32 inch) HD Ready LED TV   \n",
       "910            Dektron 50 cm (20 inch) HD Ready LED TV   \n",
       "911  AISEN 124 cm (49 inch) Ultra HD (4K) LED Smart TV   \n",
       "\n",
       "                                        Specifications    Price  Rating  \\\n",
       "0    HD Ready 1366 x 768 Pixels20 W Speaker Output6...   8499.0     3.8   \n",
       "1    HD Ready 1366 x 768 Pixels20 W Speaker Output6...   6499.0     3.8   \n",
       "2    Netflix|Prime Video|Disney+Hotstar|YoutubeOper...  15999.0     4.3   \n",
       "3    Netflix|Prime Video|Disney+Hotstar|YoutubeOper...  29999.0     4.3   \n",
       "4    Prime Video|Disney+Hotstar|YoutubeOperating Sy...  12499.0     4.4   \n",
       "..                                                 ...      ...     ...   \n",
       "907  HD Ready 1366×768 Pixels10W x 2 Speaker Output...  11500.0     4.2   \n",
       "908  HD Ready 1280 x 720 Pixels20 W Speaker Output1...   8999.0     3.7   \n",
       "909  Operating System: HomeOSHD Ready 1366 x 768 Pi...  17490.0     4.3   \n",
       "910  HD Ready 1366 x 768 Pixels16 W Speaker Output6...   7399.0     3.8   \n",
       "911  Netflix|Disney+Hotstar|YoutubeOperating System...  47900.0     4.2   \n",
       "\n",
       "    Operating_System    Brand  Refresh_Rate(inHz)  Speaker_Output(in W)  \n",
       "0            Android    Adsun                  60                    20  \n",
       "1            Android    Adsun                  60                    20  \n",
       "2            Android   realme                  60                    24  \n",
       "3            Android   realme                  60                    24  \n",
       "4            Android  Thomson                  60                    24  \n",
       "..               ...      ...                 ...                   ...  \n",
       "907          Android     Akai                  60                    20  \n",
       "908          Android    Sharp                 100                    20  \n",
       "909          Android    IMPEX                  50                    16  \n",
       "910          Android  Dektron                  60                    16  \n",
       "911          Android    AISEN                  60                    16  \n",
       "\n",
       "[912 rows x 8 columns]"
      ]
     },
     "execution_count": 3,
     "metadata": {},
     "output_type": "execute_result"
    }
   ],
   "source": [
    "df"
   ]
  },
  {
   "cell_type": "markdown",
   "id": "cdab336c",
   "metadata": {},
   "source": [
    "### Numerical Variable"
   ]
  },
  {
   "cell_type": "code",
   "execution_count": 4,
   "id": "cdcd610b",
   "metadata": {},
   "outputs": [
    {
     "data": {
      "text/plain": [
       "count    9.120000e+02\n",
       "mean     2.282508e+03\n",
       "std      4.688542e+04\n",
       "min      5.000000e+00\n",
       "25%      6.000000e+01\n",
       "50%      6.000000e+01\n",
       "75%      6.000000e+01\n",
       "max      1.001800e+06\n",
       "Name: Refresh_Rate(inHz), dtype: float64"
      ]
     },
     "execution_count": 4,
     "metadata": {},
     "output_type": "execute_result"
    }
   ],
   "source": [
    "df['Refresh_Rate(inHz)'].describe()"
   ]
  },
  {
   "cell_type": "code",
   "execution_count": 5,
   "id": "361c011d",
   "metadata": {},
   "outputs": [
    {
     "data": {
      "text/plain": [
       "count       912.000000\n",
       "mean      48520.750000\n",
       "std       65684.941591\n",
       "min           0.000000\n",
       "25%       13999.000000\n",
       "50%       26244.000000\n",
       "75%       56606.750000\n",
       "max      599900.000000\n",
       "Name: Price, dtype: float64"
      ]
     },
     "execution_count": 5,
     "metadata": {},
     "output_type": "execute_result"
    }
   ],
   "source": [
    "df['Price'].describe()"
   ]
  },
  {
   "cell_type": "code",
   "execution_count": 6,
   "id": "3c9a5a07",
   "metadata": {},
   "outputs": [
    {
     "data": {
      "text/plain": [
       "count    912.000000\n",
       "mean      23.939693\n",
       "std       11.256304\n",
       "min        2.000000\n",
       "25%       20.000000\n",
       "50%       20.000000\n",
       "75%       20.000000\n",
       "max      102.000000\n",
       "Name: Speaker_Output(in W), dtype: float64"
      ]
     },
     "execution_count": 6,
     "metadata": {},
     "output_type": "execute_result"
    }
   ],
   "source": [
    "df['Speaker_Output(in W)'].describe()"
   ]
  },
  {
   "cell_type": "code",
   "execution_count": 7,
   "id": "cd5c6788",
   "metadata": {},
   "outputs": [
    {
     "data": {
      "text/plain": [
       "20     611\n",
       "40      71\n",
       "16      56\n",
       "24      52\n",
       "30      42\n",
       "60      19\n",
       "10      17\n",
       "50      13\n",
       "48       5\n",
       "39       4\n",
       "102      3\n",
       "8        2\n",
       "2        2\n",
       "14       2\n",
       "35       2\n",
       "100      2\n",
       "36       2\n",
       "44       2\n",
       "12       1\n",
       "18       1\n",
       "19       1\n",
       "98       1\n",
       "82       1\n",
       "Name: Speaker_Output(in W), dtype: int64"
      ]
     },
     "execution_count": 7,
     "metadata": {},
     "output_type": "execute_result"
    }
   ],
   "source": [
    "df['Speaker_Output(in W)'].value_counts()"
   ]
  },
  {
   "cell_type": "code",
   "execution_count": 8,
   "id": "5f8997ab",
   "metadata": {},
   "outputs": [
    {
     "data": {
      "text/plain": [
       "13999.0     58\n",
       "16999.0     43\n",
       "8999.0      41\n",
       "8499.0      40\n",
       "6499.0      38\n",
       "            ..\n",
       "249999.0     1\n",
       "45049.0      1\n",
       "318700.0     1\n",
       "114769.0     1\n",
       "47900.0      1\n",
       "Name: Price, Length: 412, dtype: int64"
      ]
     },
     "execution_count": 8,
     "metadata": {},
     "output_type": "execute_result"
    }
   ],
   "source": [
    "df['Price'].value_counts()"
   ]
  },
  {
   "cell_type": "markdown",
   "id": "c0627aa6",
   "metadata": {},
   "source": [
    "### Univariate Analysis"
   ]
  },
  {
   "cell_type": "markdown",
   "id": "403818f8",
   "metadata": {},
   "source": [
    "### Box Plot for Univariate Analysis(Numerical):"
   ]
  },
  {
   "cell_type": "code",
   "execution_count": 9,
   "id": "9b526fd2",
   "metadata": {},
   "outputs": [
    {
     "name": "stderr",
     "output_type": "stream",
     "text": [
      "F:\\anaconda3\\lib\\site-packages\\seaborn\\_decorators.py:36: FutureWarning: Pass the following variable as a keyword arg: x. From version 0.12, the only valid positional argument will be `data`, and passing other arguments without an explicit keyword will result in an error or misinterpretation.\n",
      "  warnings.warn(\n"
     ]
    },
    {
     "data": {
      "image/png": "[encoded data removed]",
      "text/plain": [
       "<Figure size 1152x576 with 1 Axes>"
      ]
     },
     "metadata": {
      "needs_background": "light"
     },
     "output_type": "display_data"
    }
   ],
   "source": [
    "plt.figure(figsize=(16,8))\n",
    "sns.boxplot(df['Price'],data=df)\n",
    "plt.title('Box Plot for Price')\n",
    "plt.show()"
   ]
  },
  {
   "cell_type": "markdown",
   "id": "7a7a4f74",
   "metadata": {},
   "source": [
    "There are huge number of Outliers in Price.\n",
    "The Box Plot has an average price of 30000 to 40000."
   ]
  },
  {
   "cell_type": "code",
   "execution_count": 10,
   "id": "44e6fd02",
   "metadata": {},
   "outputs": [
    {
     "name": "stderr",
     "output_type": "stream",
     "text": [
      "F:\\anaconda3\\lib\\site-packages\\seaborn\\_decorators.py:36: FutureWarning: Pass the following variable as a keyword arg: x. From version 0.12, the only valid positional argument will be `data`, and passing other arguments without an explicit keyword will result in an error or misinterpretation.\n",
      "  warnings.warn(\n"
     ]
    },
    {
     "data": {
      "image/png": "[encoded data removed]",
      "text/plain": [
       "<Figure size 1152x576 with 1 Axes>"
      ]
     },
     "metadata": {
      "needs_background": "light"
     },
     "output_type": "display_data"
    }
   ],
   "source": [
    "plt.figure(figsize=(16,8))\n",
    "sns.boxplot(df['Rating'],data=df)\n",
    "plt.title('Box Plot for Rating')\n",
    "plt.show()"
   ]
  },
  {
   "cell_type": "markdown",
   "id": "d84306c7",
   "metadata": {},
   "source": [
    "There is few Outliers in Rating.\n",
    "The Box Plot having more Rating in range of above 3.5 and below 4.5. "
   ]
  },
  {
   "cell_type": "markdown",
   "id": "ab052a7a",
   "metadata": {},
   "source": [
    "### Histogram for Univariate Analysis(Numerical):"
   ]
  },
  {
   "cell_type": "code",
   "execution_count": 11,
   "id": "9ce50a4b",
   "metadata": {},
   "outputs": [
    {
     "data": {
      "image/png": "[encoded data removed]",
      "text/plain": [
       "<Figure size 432x288 with 1 Axes>"
      ]
     },
     "metadata": {
      "needs_background": "light"
     },
     "output_type": "display_data"
    }
   ],
   "source": [
    "plt.hist(x=df['Speaker_Output(in W)'],rwidth=0.95)\n",
    "plt.title('Hist Plot for Speaker_Output(in W)')\n",
    "plt.show()"
   ]
  },
  {
   "cell_type": "markdown",
   "id": "2a53bb49",
   "metadata": {},
   "source": [
    "The Hist Plot for Speaker_Output(in W) has more in 20W and less in 100W for the Television on this website."
   ]
  },
  {
   "cell_type": "code",
   "execution_count": 12,
   "id": "d7aca200",
   "metadata": {},
   "outputs": [
    {
     "data": {
      "image/png": "[encoded data removed]",
      "text/plain": [
       "<Figure size 432x288 with 1 Axes>"
      ]
     },
     "metadata": {
      "needs_background": "light"
     },
     "output_type": "display_data"
    }
   ],
   "source": [
    "plt.hist(x=df['Rating'],rwidth=0.9)\n",
    "plt.title('Hist Plot for Rating')\n",
    "plt.show()"
   ]
  },
  {
   "cell_type": "markdown",
   "id": "4105034f",
   "metadata": {},
   "source": [
    "The Hist Plot for Rating is high in region from 4.0 to 4.5 and less in region from 2.5 to 3.0 rating."
   ]
  },
  {
   "cell_type": "code",
   "execution_count": 13,
   "id": "4cb7cd33",
   "metadata": {},
   "outputs": [
    {
     "data": {
      "text/plain": [
       "13999.0     58\n",
       "16999.0     43\n",
       "8999.0      41\n",
       "8499.0      40\n",
       "6499.0      38\n",
       "            ..\n",
       "249999.0     1\n",
       "45049.0      1\n",
       "318700.0     1\n",
       "114769.0     1\n",
       "47900.0      1\n",
       "Name: Price, Length: 412, dtype: int64"
      ]
     },
     "execution_count": 13,
     "metadata": {},
     "output_type": "execute_result"
    }
   ],
   "source": [
    "df['Price'].value_counts()"
   ]
  },
  {
   "cell_type": "code",
   "execution_count": 14,
   "id": "9b8cb7a4",
   "metadata": {},
   "outputs": [
    {
     "data": {
      "image/png": "[encoded data removed]",
      "text/plain": [
       "<Figure size 432x288 with 1 Axes>"
      ]
     },
     "metadata": {
      "needs_background": "light"
     },
     "output_type": "display_data"
    }
   ],
   "source": [
    "plt.hist(x=df['Price'],rwidth=0.95)\n",
    "plt.title('Hist Plot for Price')\n",
    "plt.show()"
   ]
  },
  {
   "cell_type": "markdown",
   "id": "cb3fe90f",
   "metadata": {},
   "source": [
    "The above plot show us Hist Plot for each price. The price between 0 to 100000 have more Hist Plot when compared to others Prices."
   ]
  },
  {
   "cell_type": "markdown",
   "id": "31db007e",
   "metadata": {},
   "source": [
    "### Violin Plot for Univariate Analysis(Numerical):"
   ]
  },
  {
   "cell_type": "code",
   "execution_count": 15,
   "id": "605f20c9",
   "metadata": {},
   "outputs": [
    {
     "name": "stderr",
     "output_type": "stream",
     "text": [
      "F:\\anaconda3\\lib\\site-packages\\seaborn\\_decorators.py:36: FutureWarning: Pass the following variable as a keyword arg: x. From version 0.12, the only valid positional argument will be `data`, and passing other arguments without an explicit keyword will result in an error or misinterpretation.\n",
      "  warnings.warn(\n"
     ]
    },
    {
     "data": {
      "image/png": "[encoded data removed]",
      "text/plain": [
       "<Figure size 1152x576 with 1 Axes>"
      ]
     },
     "metadata": {
      "needs_background": "light"
     },
     "output_type": "display_data"
    }
   ],
   "source": [
    "plt.figure(figsize=(16,8))\n",
    "sns.violinplot(df['Price'],data=df)\n",
    "plt.title('Violin Plot for Price')\n",
    "plt.show()"
   ]
  },
  {
   "cell_type": "markdown",
   "id": "5122ec58",
   "metadata": {},
   "source": [
    "The above plot show us Violin Plot for each Price. The Price is in the range between 0 to 100000 have more violin plot. "
   ]
  },
  {
   "cell_type": "code",
   "execution_count": 16,
   "id": "85223219",
   "metadata": {},
   "outputs": [
    {
     "name": "stderr",
     "output_type": "stream",
     "text": [
      "F:\\anaconda3\\lib\\site-packages\\seaborn\\_decorators.py:36: FutureWarning: Pass the following variable as a keyword arg: x. From version 0.12, the only valid positional argument will be `data`, and passing other arguments without an explicit keyword will result in an error or misinterpretation.\n",
      "  warnings.warn(\n"
     ]
    },
    {
     "data": {
      "image/png": "[encoded data removed]",
      "text/plain": [
       "<Figure size 720x576 with 1 Axes>"
      ]
     },
     "metadata": {
      "needs_background": "light"
     },
     "output_type": "display_data"
    }
   ],
   "source": [
    "plt.figure(figsize=(10,8))\n",
    "sns.violinplot(df['Rating'],data=df)\n",
    "plt.title('Violin Plot for Rating')\n",
    "plt.show()"
   ]
  },
  {
   "cell_type": "markdown",
   "id": "1b42a454",
   "metadata": {},
   "source": [
    "The above plot show us Violin plot for each Ratings.The Ratings is more in the region between 4.0 to 4.5."
   ]
  },
  {
   "cell_type": "markdown",
   "id": "d6fdb1c6",
   "metadata": {},
   "source": [
    "### Distribution Plot for Univariate Analysis(Numerical):"
   ]
  },
  {
   "cell_type": "code",
   "execution_count": 17,
   "id": "ab3e3a34",
   "metadata": {},
   "outputs": [
    {
     "name": "stderr",
     "output_type": "stream",
     "text": [
      "F:\\anaconda3\\lib\\site-packages\\seaborn\\distributions.py:2619: FutureWarning: `distplot` is a deprecated function and will be removed in a future version. Please adapt your code to use either `displot` (a figure-level function with similar flexibility) or `histplot` (an axes-level function for histograms).\n",
      "  warnings.warn(msg, FutureWarning)\n"
     ]
    },
    {
     "data": {
      "image/png": "[encoded data removed]",
      "text/plain": [
       "<Figure size 432x288 with 1 Axes>"
      ]
     },
     "metadata": {
      "needs_background": "light"
     },
     "output_type": "display_data"
    }
   ],
   "source": [
    "sns.distplot(df['Speaker_Output(in W)'],hist=True)\n",
    "plt.title('Distribution Plot for Speaker_Output(in W)')\n",
    "plt.show()"
   ]
  },
  {
   "cell_type": "markdown",
   "id": "ec775e2e",
   "metadata": {},
   "source": [
    "The above plot show us Distribution plot for each Speaker_Output(in W).The Distribution Plot have more density in 20W."
   ]
  },
  {
   "cell_type": "code",
   "execution_count": 18,
   "id": "a8cfd7f5",
   "metadata": {},
   "outputs": [
    {
     "name": "stderr",
     "output_type": "stream",
     "text": [
      "F:\\anaconda3\\lib\\site-packages\\seaborn\\distributions.py:2619: FutureWarning: `distplot` is a deprecated function and will be removed in a future version. Please adapt your code to use either `displot` (a figure-level function with similar flexibility) or `histplot` (an axes-level function for histograms).\n",
      "  warnings.warn(msg, FutureWarning)\n"
     ]
    },
    {
     "data": {
      "image/png": "[encoded data removed]",
      "text/plain": [
       "<Figure size 432x288 with 1 Axes>"
      ]
     },
     "metadata": {
      "needs_background": "light"
     },
     "output_type": "display_data"
    }
   ],
   "source": [
    "sns.distplot(df['Price'],hist=True)\n",
    "plt.title('Distribution Plot for Price')\n",
    "plt.show()"
   ]
  },
  {
   "cell_type": "markdown",
   "id": "a0a970e1",
   "metadata": {},
   "source": [
    "The above plot show us Distribution plot for each Price.The Distribution Plot have more density in range between 0 to 100000."
   ]
  },
  {
   "cell_type": "code",
   "execution_count": 19,
   "id": "5d223ed4",
   "metadata": {},
   "outputs": [
    {
     "name": "stderr",
     "output_type": "stream",
     "text": [
      "F:\\anaconda3\\lib\\site-packages\\seaborn\\distributions.py:2619: FutureWarning: `distplot` is a deprecated function and will be removed in a future version. Please adapt your code to use either `displot` (a figure-level function with similar flexibility) or `histplot` (an axes-level function for histograms).\n",
      "  warnings.warn(msg, FutureWarning)\n"
     ]
    },
    {
     "data": {
      "image/png": "[encoded data removed]",
      "text/plain": [
       "<Figure size 432x288 with 1 Axes>"
      ]
     },
     "metadata": {
      "needs_background": "light"
     },
     "output_type": "display_data"
    }
   ],
   "source": [
    "sns.distplot(df['Rating'],hist=True)\n",
    "plt.title('Distribution Plot for Rating')\n",
    "plt.show()"
   ]
  },
  {
   "cell_type": "markdown",
   "id": "7d7e4cc8",
   "metadata": {},
   "source": [
    "The above plot show us Distribution plot for each Rating.The Distribution Plot have more density in average range between 4.0 to 4.5."
   ]
  },
  {
   "cell_type": "markdown",
   "id": "3dd6312e",
   "metadata": {},
   "source": [
    "### Bivariate Analysis"
   ]
  },
  {
   "cell_type": "markdown",
   "id": "16a59cfc",
   "metadata": {},
   "source": [
    "### Pivot_Table"
   ]
  },
  {
   "cell_type": "code",
   "execution_count": 20,
   "id": "01988709",
   "metadata": {},
   "outputs": [],
   "source": [
    "df1=pd.pivot_table(data=df,index=df['Brand'],aggfunc=np.sum)"
   ]
  },
  {
   "cell_type": "code",
   "execution_count": 21,
   "id": "4dd91ea2",
   "metadata": {},
   "outputs": [
    {
     "data": {
      "text/html": [
       "<div>\n",
       "<style scoped>\n",
       "    .dataframe tbody tr th:only-of-type {\n",
       "        vertical-align: middle;\n",
       "    }\n",
       "\n",
       "    .dataframe tbody tr th {\n",
       "        vertical-align: top;\n",
       "    }\n",
       "\n",
       "    .dataframe thead th {\n",
       "        text-align: right;\n",
       "    }\n",
       "</style>\n",
       "<table border=\"1\" class=\"dataframe\">\n",
       "  <thead>\n",
       "    <tr style=\"text-align: right;\">\n",
       "      <th></th>\n",
       "      <th>Price</th>\n",
       "      <th>Rating</th>\n",
       "      <th>Refresh_Rate(inHz)</th>\n",
       "      <th>Speaker_Output(in W)</th>\n",
       "    </tr>\n",
       "    <tr>\n",
       "      <th>Brand</th>\n",
       "      <th></th>\n",
       "      <th></th>\n",
       "      <th></th>\n",
       "      <th></th>\n",
       "    </tr>\n",
       "  </thead>\n",
       "  <tbody>\n",
       "    <tr>\n",
       "      <th>AISEN</th>\n",
       "      <td>78880.0</td>\n",
       "      <td>11.7</td>\n",
       "      <td>180</td>\n",
       "      <td>48</td>\n",
       "    </tr>\n",
       "    <tr>\n",
       "      <th>Adsun</th>\n",
       "      <td>1229764.0</td>\n",
       "      <td>516.8</td>\n",
       "      <td>8160</td>\n",
       "      <td>2720</td>\n",
       "    </tr>\n",
       "    <tr>\n",
       "      <th>Akai</th>\n",
       "      <td>230498.0</td>\n",
       "      <td>25.2</td>\n",
       "      <td>360</td>\n",
       "      <td>120</td>\n",
       "    </tr>\n",
       "    <tr>\n",
       "      <th>BPL</th>\n",
       "      <td>204919.0</td>\n",
       "      <td>25.3</td>\n",
       "      <td>360</td>\n",
       "      <td>100</td>\n",
       "    </tr>\n",
       "    <tr>\n",
       "      <th>Blackox</th>\n",
       "      <td>18498.0</td>\n",
       "      <td>8.4</td>\n",
       "      <td>100</td>\n",
       "      <td>40</td>\n",
       "    </tr>\n",
       "    <tr>\n",
       "      <th>Blaupunkt</th>\n",
       "      <td>230492.0</td>\n",
       "      <td>36.0</td>\n",
       "      <td>480</td>\n",
       "      <td>390</td>\n",
       "    </tr>\n",
       "    <tr>\n",
       "      <th>Candes</th>\n",
       "      <td>37827.0</td>\n",
       "      <td>12.5</td>\n",
       "      <td>170</td>\n",
       "      <td>60</td>\n",
       "    </tr>\n",
       "    <tr>\n",
       "      <th>CloudWalker</th>\n",
       "      <td>42998.0</td>\n",
       "      <td>8.2</td>\n",
       "      <td>120</td>\n",
       "      <td>30</td>\n",
       "    </tr>\n",
       "    <tr>\n",
       "      <th>Compaq</th>\n",
       "      <td>307992.0</td>\n",
       "      <td>34.0</td>\n",
       "      <td>480</td>\n",
       "      <td>188</td>\n",
       "    </tr>\n",
       "    <tr>\n",
       "      <th>Coocaa</th>\n",
       "      <td>158993.0</td>\n",
       "      <td>30.1</td>\n",
       "      <td>420</td>\n",
       "      <td>136</td>\n",
       "    </tr>\n",
       "    <tr>\n",
       "      <th>Croma</th>\n",
       "      <td>424720.0</td>\n",
       "      <td>125.7</td>\n",
       "      <td>1800</td>\n",
       "      <td>548</td>\n",
       "    </tr>\n",
       "    <tr>\n",
       "      <th>DACS</th>\n",
       "      <td>13999.0</td>\n",
       "      <td>4.2</td>\n",
       "      <td>60</td>\n",
       "      <td>20</td>\n",
       "    </tr>\n",
       "    <tr>\n",
       "      <th>DETEL</th>\n",
       "      <td>58698.0</td>\n",
       "      <td>8.2</td>\n",
       "      <td>120</td>\n",
       "      <td>40</td>\n",
       "    </tr>\n",
       "    <tr>\n",
       "      <th>Daiwa</th>\n",
       "      <td>23199.0</td>\n",
       "      <td>8.3</td>\n",
       "      <td>180</td>\n",
       "      <td>36</td>\n",
       "    </tr>\n",
       "    <tr>\n",
       "      <th>Dektron</th>\n",
       "      <td>19897.0</td>\n",
       "      <td>11.5</td>\n",
       "      <td>180</td>\n",
       "      <td>42</td>\n",
       "    </tr>\n",
       "    <tr>\n",
       "      <th>Dyanora</th>\n",
       "      <td>89594.0</td>\n",
       "      <td>22.8</td>\n",
       "      <td>360</td>\n",
       "      <td>120</td>\n",
       "    </tr>\n",
       "    <tr>\n",
       "      <th>HUIDI</th>\n",
       "      <td>41796.0</td>\n",
       "      <td>16.0</td>\n",
       "      <td>240</td>\n",
       "      <td>70</td>\n",
       "    </tr>\n",
       "    <tr>\n",
       "      <th>Haier</th>\n",
       "      <td>493835.0</td>\n",
       "      <td>50.6</td>\n",
       "      <td>720</td>\n",
       "      <td>236</td>\n",
       "    </tr>\n",
       "    <tr>\n",
       "      <th>Hisense</th>\n",
       "      <td>516257.0</td>\n",
       "      <td>56.9</td>\n",
       "      <td>780</td>\n",
       "      <td>492</td>\n",
       "    </tr>\n",
       "    <tr>\n",
       "      <th>Hyundai</th>\n",
       "      <td>16000.0</td>\n",
       "      <td>4.2</td>\n",
       "      <td>60</td>\n",
       "      <td>20</td>\n",
       "    </tr>\n",
       "    <tr>\n",
       "      <th>IMPEX</th>\n",
       "      <td>162956.0</td>\n",
       "      <td>20.9</td>\n",
       "      <td>268</td>\n",
       "      <td>88</td>\n",
       "    </tr>\n",
       "    <tr>\n",
       "      <th>INB</th>\n",
       "      <td>9999.0</td>\n",
       "      <td>4.2</td>\n",
       "      <td>60</td>\n",
       "      <td>20</td>\n",
       "    </tr>\n",
       "    <tr>\n",
       "      <th>Infinix</th>\n",
       "      <td>92495.0</td>\n",
       "      <td>20.2</td>\n",
       "      <td>300</td>\n",
       "      <td>124</td>\n",
       "    </tr>\n",
       "    <tr>\n",
       "      <th>Intex</th>\n",
       "      <td>27990.0</td>\n",
       "      <td>4.2</td>\n",
       "      <td>60</td>\n",
       "      <td>20</td>\n",
       "    </tr>\n",
       "    <tr>\n",
       "      <th>JVC</th>\n",
       "      <td>171988.0</td>\n",
       "      <td>20.7</td>\n",
       "      <td>284</td>\n",
       "      <td>130</td>\n",
       "    </tr>\n",
       "    <tr>\n",
       "      <th>KODAK</th>\n",
       "      <td>413187.0</td>\n",
       "      <td>57.9</td>\n",
       "      <td>780</td>\n",
       "      <td>406</td>\n",
       "    </tr>\n",
       "    <tr>\n",
       "      <th>Kevin</th>\n",
       "      <td>42999.0</td>\n",
       "      <td>4.2</td>\n",
       "      <td>60</td>\n",
       "      <td>20</td>\n",
       "    </tr>\n",
       "    <tr>\n",
       "      <th>LG</th>\n",
       "      <td>11597315.0</td>\n",
       "      <td>474.7</td>\n",
       "      <td>7730</td>\n",
       "      <td>2530</td>\n",
       "    </tr>\n",
       "    <tr>\n",
       "      <th>Lloyd</th>\n",
       "      <td>254837.0</td>\n",
       "      <td>38.2</td>\n",
       "      <td>465</td>\n",
       "      <td>180</td>\n",
       "    </tr>\n",
       "    <tr>\n",
       "      <th>LumX</th>\n",
       "      <td>57358.0</td>\n",
       "      <td>23.8</td>\n",
       "      <td>360</td>\n",
       "      <td>120</td>\n",
       "    </tr>\n",
       "    <tr>\n",
       "      <th>MOTOROLA</th>\n",
       "      <td>690983.0</td>\n",
       "      <td>74.2</td>\n",
       "      <td>1020</td>\n",
       "      <td>672</td>\n",
       "    </tr>\n",
       "    <tr>\n",
       "      <th>MarQ</th>\n",
       "      <td>135995.0</td>\n",
       "      <td>21.2</td>\n",
       "      <td>300</td>\n",
       "      <td>100</td>\n",
       "    </tr>\n",
       "    <tr>\n",
       "      <th>Mi</th>\n",
       "      <td>667338.0</td>\n",
       "      <td>78.4</td>\n",
       "      <td>1140</td>\n",
       "      <td>430</td>\n",
       "    </tr>\n",
       "    <tr>\n",
       "      <th>Micromax</th>\n",
       "      <td>466887.0</td>\n",
       "      <td>57.4</td>\n",
       "      <td>840</td>\n",
       "      <td>422</td>\n",
       "    </tr>\n",
       "    <tr>\n",
       "      <th>NOKIA</th>\n",
       "      <td>62999.0</td>\n",
       "      <td>4.4</td>\n",
       "      <td>60</td>\n",
       "      <td>48</td>\n",
       "    </tr>\n",
       "    <tr>\n",
       "      <th>Nacson</th>\n",
       "      <td>39970.0</td>\n",
       "      <td>12.5</td>\n",
       "      <td>10180</td>\n",
       "      <td>56</td>\n",
       "    </tr>\n",
       "    <tr>\n",
       "      <th>Nokia</th>\n",
       "      <td>397989.0</td>\n",
       "      <td>47.9</td>\n",
       "      <td>660</td>\n",
       "      <td>528</td>\n",
       "    </tr>\n",
       "    <tr>\n",
       "      <th>ONIDA</th>\n",
       "      <td>29499.0</td>\n",
       "      <td>4.2</td>\n",
       "      <td>60</td>\n",
       "      <td>20</td>\n",
       "    </tr>\n",
       "    <tr>\n",
       "      <th>OnePlus</th>\n",
       "      <td>299384.0</td>\n",
       "      <td>30.5</td>\n",
       "      <td>420</td>\n",
       "      <td>200</td>\n",
       "    </tr>\n",
       "    <tr>\n",
       "      <th>Onix</th>\n",
       "      <td>201517.0</td>\n",
       "      <td>21.6</td>\n",
       "      <td>300</td>\n",
       "      <td>80</td>\n",
       "    </tr>\n",
       "    <tr>\n",
       "      <th>Oxygen</th>\n",
       "      <td>142970.0</td>\n",
       "      <td>12.6</td>\n",
       "      <td>180</td>\n",
       "      <td>60</td>\n",
       "    </tr>\n",
       "    <tr>\n",
       "      <th>PHILIPS</th>\n",
       "      <td>197564.0</td>\n",
       "      <td>28.1</td>\n",
       "      <td>420</td>\n",
       "      <td>114</td>\n",
       "    </tr>\n",
       "    <tr>\n",
       "      <th>Panasonic</th>\n",
       "      <td>831718.0</td>\n",
       "      <td>58.6</td>\n",
       "      <td>2004400</td>\n",
       "      <td>272</td>\n",
       "    </tr>\n",
       "    <tr>\n",
       "      <th>RGL</th>\n",
       "      <td>98739.0</td>\n",
       "      <td>27.1</td>\n",
       "      <td>380</td>\n",
       "      <td>124</td>\n",
       "    </tr>\n",
       "    <tr>\n",
       "      <th>SAMSUNG</th>\n",
       "      <td>13044246.0</td>\n",
       "      <td>686.1</td>\n",
       "      <td>19630</td>\n",
       "      <td>4024</td>\n",
       "    </tr>\n",
       "    <tr>\n",
       "      <th>SONY</th>\n",
       "      <td>4076559.0</td>\n",
       "      <td>178.2</td>\n",
       "      <td>4370</td>\n",
       "      <td>1024</td>\n",
       "    </tr>\n",
       "    <tr>\n",
       "      <th>Sansui</th>\n",
       "      <td>295831.0</td>\n",
       "      <td>63.8</td>\n",
       "      <td>880</td>\n",
       "      <td>296</td>\n",
       "    </tr>\n",
       "    <tr>\n",
       "      <th>Sharp</th>\n",
       "      <td>98878.0</td>\n",
       "      <td>15.1</td>\n",
       "      <td>320</td>\n",
       "      <td>80</td>\n",
       "    </tr>\n",
       "    <tr>\n",
       "      <th>Skyworth</th>\n",
       "      <td>17050.0</td>\n",
       "      <td>4.2</td>\n",
       "      <td>60</td>\n",
       "      <td>20</td>\n",
       "    </tr>\n",
       "    <tr>\n",
       "      <th>T-Series</th>\n",
       "      <td>103457.0</td>\n",
       "      <td>28.1</td>\n",
       "      <td>370</td>\n",
       "      <td>132</td>\n",
       "    </tr>\n",
       "    <tr>\n",
       "      <th>TCL</th>\n",
       "      <td>1678474.0</td>\n",
       "      <td>131.2</td>\n",
       "      <td>1920</td>\n",
       "      <td>777</td>\n",
       "    </tr>\n",
       "    <tr>\n",
       "      <th>TOSHIBA</th>\n",
       "      <td>304574.0</td>\n",
       "      <td>38.3</td>\n",
       "      <td>540</td>\n",
       "      <td>214</td>\n",
       "    </tr>\n",
       "    <tr>\n",
       "      <th>Thomson</th>\n",
       "      <td>669478.0</td>\n",
       "      <td>96.2</td>\n",
       "      <td>1320</td>\n",
       "      <td>670</td>\n",
       "    </tr>\n",
       "    <tr>\n",
       "      <th>VG</th>\n",
       "      <td>101950.0</td>\n",
       "      <td>21.0</td>\n",
       "      <td>300</td>\n",
       "      <td>84</td>\n",
       "    </tr>\n",
       "    <tr>\n",
       "      <th>Vu</th>\n",
       "      <td>669315.0</td>\n",
       "      <td>56.4</td>\n",
       "      <td>840</td>\n",
       "      <td>514</td>\n",
       "    </tr>\n",
       "    <tr>\n",
       "      <th>acer</th>\n",
       "      <td>198985.0</td>\n",
       "      <td>26.8</td>\n",
       "      <td>360</td>\n",
       "      <td>144</td>\n",
       "    </tr>\n",
       "    <tr>\n",
       "      <th>iFFALCON</th>\n",
       "      <td>678658.0</td>\n",
       "      <td>65.4</td>\n",
       "      <td>900</td>\n",
       "      <td>350</td>\n",
       "    </tr>\n",
       "    <tr>\n",
       "      <th>kinger</th>\n",
       "      <td>783944.0</td>\n",
       "      <td>235.2</td>\n",
       "      <td>3360</td>\n",
       "      <td>1120</td>\n",
       "    </tr>\n",
       "    <tr>\n",
       "      <th>realme</th>\n",
       "      <td>195993.0</td>\n",
       "      <td>29.9</td>\n",
       "      <td>420</td>\n",
       "      <td>164</td>\n",
       "    </tr>\n",
       "  </tbody>\n",
       "</table>\n",
       "</div>"
      ],
      "text/plain": [
       "                  Price  Rating  Refresh_Rate(inHz)  Speaker_Output(in W)\n",
       "Brand                                                                    \n",
       "AISEN           78880.0    11.7                 180                    48\n",
       "Adsun         1229764.0   516.8                8160                  2720\n",
       "Akai           230498.0    25.2                 360                   120\n",
       "BPL            204919.0    25.3                 360                   100\n",
       "Blackox         18498.0     8.4                 100                    40\n",
       "Blaupunkt      230492.0    36.0                 480                   390\n",
       "Candes          37827.0    12.5                 170                    60\n",
       "CloudWalker     42998.0     8.2                 120                    30\n",
       "Compaq         307992.0    34.0                 480                   188\n",
       "Coocaa         158993.0    30.1                 420                   136\n",
       "Croma          424720.0   125.7                1800                   548\n",
       "DACS            13999.0     4.2                  60                    20\n",
       "DETEL           58698.0     8.2                 120                    40\n",
       "Daiwa           23199.0     8.3                 180                    36\n",
       "Dektron         19897.0    11.5                 180                    42\n",
       "Dyanora         89594.0    22.8                 360                   120\n",
       "HUIDI           41796.0    16.0                 240                    70\n",
       "Haier          493835.0    50.6                 720                   236\n",
       "Hisense        516257.0    56.9                 780                   492\n",
       "Hyundai         16000.0     4.2                  60                    20\n",
       "IMPEX          162956.0    20.9                 268                    88\n",
       "INB              9999.0     4.2                  60                    20\n",
       "Infinix         92495.0    20.2                 300                   124\n",
       "Intex           27990.0     4.2                  60                    20\n",
       "JVC            171988.0    20.7                 284                   130\n",
       "KODAK          413187.0    57.9                 780                   406\n",
       "Kevin           42999.0     4.2                  60                    20\n",
       "LG           11597315.0   474.7                7730                  2530\n",
       "Lloyd          254837.0    38.2                 465                   180\n",
       "LumX            57358.0    23.8                 360                   120\n",
       "MOTOROLA       690983.0    74.2                1020                   672\n",
       "MarQ           135995.0    21.2                 300                   100\n",
       "Mi             667338.0    78.4                1140                   430\n",
       "Micromax       466887.0    57.4                 840                   422\n",
       "NOKIA           62999.0     4.4                  60                    48\n",
       "Nacson          39970.0    12.5               10180                    56\n",
       "Nokia          397989.0    47.9                 660                   528\n",
       "ONIDA           29499.0     4.2                  60                    20\n",
       "OnePlus        299384.0    30.5                 420                   200\n",
       "Onix           201517.0    21.6                 300                    80\n",
       "Oxygen         142970.0    12.6                 180                    60\n",
       "PHILIPS        197564.0    28.1                 420                   114\n",
       "Panasonic      831718.0    58.6             2004400                   272\n",
       "RGL             98739.0    27.1                 380                   124\n",
       "SAMSUNG      13044246.0   686.1               19630                  4024\n",
       "SONY          4076559.0   178.2                4370                  1024\n",
       "Sansui         295831.0    63.8                 880                   296\n",
       "Sharp           98878.0    15.1                 320                    80\n",
       "Skyworth        17050.0     4.2                  60                    20\n",
       "T-Series       103457.0    28.1                 370                   132\n",
       "TCL           1678474.0   131.2                1920                   777\n",
       "TOSHIBA        304574.0    38.3                 540                   214\n",
       "Thomson        669478.0    96.2                1320                   670\n",
       "VG             101950.0    21.0                 300                    84\n",
       "Vu             669315.0    56.4                 840                   514\n",
       "acer           198985.0    26.8                 360                   144\n",
       "iFFALCON       678658.0    65.4                 900                   350\n",
       "kinger         783944.0   235.2                3360                  1120\n",
       "realme         195993.0    29.9                 420                   164"
      ]
     },
     "execution_count": 21,
     "metadata": {},
     "output_type": "execute_result"
    }
   ],
   "source": [
    "df1"
   ]
  },
  {
   "cell_type": "markdown",
   "id": "e2b4aafa",
   "metadata": {},
   "source": [
    "### Groupby"
   ]
  },
  {
   "cell_type": "code",
   "execution_count": 22,
   "id": "37a4829f",
   "metadata": {},
   "outputs": [],
   "source": [
    "df2=df.groupby('Brand')"
   ]
  },
  {
   "cell_type": "code",
   "execution_count": 23,
   "id": "59a0acb1",
   "metadata": {
    "scrolled": false
   },
   "outputs": [
    {
     "data": {
      "text/html": [
       "<div>\n",
       "<style scoped>\n",
       "    .dataframe tbody tr th:only-of-type {\n",
       "        vertical-align: middle;\n",
       "    }\n",
       "\n",
       "    .dataframe tbody tr th {\n",
       "        vertical-align: top;\n",
       "    }\n",
       "\n",
       "    .dataframe thead th {\n",
       "        text-align: right;\n",
       "    }\n",
       "</style>\n",
       "<table border=\"1\" class=\"dataframe\">\n",
       "  <thead>\n",
       "    <tr style=\"text-align: right;\">\n",
       "      <th></th>\n",
       "      <th>Name of the Product</th>\n",
       "      <th>Specifications</th>\n",
       "      <th>Price</th>\n",
       "      <th>Rating</th>\n",
       "      <th>Operating_System</th>\n",
       "      <th>Refresh_Rate(inHz)</th>\n",
       "      <th>Speaker_Output(in W)</th>\n",
       "    </tr>\n",
       "    <tr>\n",
       "      <th>Brand</th>\n",
       "      <th></th>\n",
       "      <th></th>\n",
       "      <th></th>\n",
       "      <th></th>\n",
       "      <th></th>\n",
       "      <th></th>\n",
       "      <th></th>\n",
       "    </tr>\n",
       "  </thead>\n",
       "  <tbody>\n",
       "    <tr>\n",
       "      <th>AISEN</th>\n",
       "      <td>AISEN 100 cm (40 inch) HD Ready LED TV</td>\n",
       "      <td>HD Ready 1366 x 768 Pixels16 W Speaker Output6...</td>\n",
       "      <td>17990.0</td>\n",
       "      <td>3.3</td>\n",
       "      <td>Android</td>\n",
       "      <td>60</td>\n",
       "      <td>16</td>\n",
       "    </tr>\n",
       "    <tr>\n",
       "      <th>Adsun</th>\n",
       "      <td>Adsun 80 cm (32 inch) HD Ready LED TV</td>\n",
       "      <td>HD Ready 1366 x 768 Pixels20 W Speaker Output6...</td>\n",
       "      <td>8499.0</td>\n",
       "      <td>3.8</td>\n",
       "      <td>Android</td>\n",
       "      <td>60</td>\n",
       "      <td>20</td>\n",
       "    </tr>\n",
       "    <tr>\n",
       "      <th>Akai</th>\n",
       "      <td>Akai 139.7 cm (55 inch) QLED Ultra HD (4K) Sma...</td>\n",
       "      <td>Ultra HD (4K) 1920 x 1080 Pixels10W x 2 Speake...</td>\n",
       "      <td>55947.0</td>\n",
       "      <td>4.2</td>\n",
       "      <td>Android</td>\n",
       "      <td>60</td>\n",
       "      <td>20</td>\n",
       "    </tr>\n",
       "    <tr>\n",
       "      <th>BPL</th>\n",
       "      <td>BPL 127 cm (50 inch) Ultra HD (4K) LED Smart TV</td>\n",
       "      <td>Ultra HD (4K) 3840 x 2160 - Ultra HD Pixels8W ...</td>\n",
       "      <td>31500.0</td>\n",
       "      <td>4.2</td>\n",
       "      <td>Android</td>\n",
       "      <td>60</td>\n",
       "      <td>20</td>\n",
       "    </tr>\n",
       "    <tr>\n",
       "      <th>Blackox</th>\n",
       "      <td>Blackox Super Premium 61 cm (24 inch) Full HD ...</td>\n",
       "      <td>Full HD 1920 x 1080 Pixels20 W Speaker Output5...</td>\n",
       "      <td>7999.0</td>\n",
       "      <td>4.2</td>\n",
       "      <td>Android</td>\n",
       "      <td>50</td>\n",
       "      <td>20</td>\n",
       "    </tr>\n",
       "    <tr>\n",
       "      <th>Blaupunkt</th>\n",
       "      <td>Blaupunkt Cybersound 98 cm (40 Inch) HD Ready ...</td>\n",
       "      <td>Prime Video|Disney+Hotstar|YoutubeOperating Sy...</td>\n",
       "      <td>15999.0</td>\n",
       "      <td>4.4</td>\n",
       "      <td>Android</td>\n",
       "      <td>60</td>\n",
       "      <td>40</td>\n",
       "    </tr>\n",
       "    <tr>\n",
       "      <th>Candes</th>\n",
       "      <td>Candes 80 cm (32 inch) HD Ready LED Smart Andr...</td>\n",
       "      <td>Netflix|Prime Video|Disney+Hotstar|YoutubeOper...</td>\n",
       "      <td>11639.0</td>\n",
       "      <td>3.9</td>\n",
       "      <td>Android</td>\n",
       "      <td>60</td>\n",
       "      <td>20</td>\n",
       "    </tr>\n",
       "    <tr>\n",
       "      <th>CloudWalker</th>\n",
       "      <td>CloudWalker Spectra 109 cm (43 inch) Full HD L...</td>\n",
       "      <td>Full HD 1920 x 1080 Pixels20 W Speaker Output6...</td>\n",
       "      <td>17999.0</td>\n",
       "      <td>4.3</td>\n",
       "      <td>Android</td>\n",
       "      <td>60</td>\n",
       "      <td>20</td>\n",
       "    </tr>\n",
       "    <tr>\n",
       "      <th>Compaq</th>\n",
       "      <td>Compaq HUEQ G43B 108 cm (43 inch) Ultra HD (4K...</td>\n",
       "      <td>Netflix|Prime Video|Disney+Hotstar|YoutubeOper...</td>\n",
       "      <td>24999.0</td>\n",
       "      <td>3.9</td>\n",
       "      <td>Android</td>\n",
       "      <td>60</td>\n",
       "      <td>24</td>\n",
       "    </tr>\n",
       "    <tr>\n",
       "      <th>Coocaa</th>\n",
       "      <td>Coocaa 80 cm (32 inch) HD Ready LED Smart TV w...</td>\n",
       "      <td>YoutubeOperating System: CoolitaHD Ready 1366 ...</td>\n",
       "      <td>10499.0</td>\n",
       "      <td>4.2</td>\n",
       "      <td>Android</td>\n",
       "      <td>60</td>\n",
       "      <td>20</td>\n",
       "    </tr>\n",
       "    <tr>\n",
       "      <th>Croma</th>\n",
       "      <td>Croma 60.9 cm (24 inch) HD Ready LED TV</td>\n",
       "      <td>HD Ready 1366 x 786 Pixels16 W Speaker Output6...</td>\n",
       "      <td>6990.0</td>\n",
       "      <td>4.3</td>\n",
       "      <td>Android</td>\n",
       "      <td>60</td>\n",
       "      <td>16</td>\n",
       "    </tr>\n",
       "    <tr>\n",
       "      <th>DACS</th>\n",
       "      <td>DACS D13X 80 cm (32 inch) HD Ready LED Smart A...</td>\n",
       "      <td>Netflix|Prime Video|Disney+Hotstar|YoutubeOper...</td>\n",
       "      <td>13999.0</td>\n",
       "      <td>4.2</td>\n",
       "      <td>Android</td>\n",
       "      <td>60</td>\n",
       "      <td>20</td>\n",
       "    </tr>\n",
       "    <tr>\n",
       "      <th>DETEL</th>\n",
       "      <td>DETEL 140 cm (55 inch) Ultra HD (4K) LED Smart...</td>\n",
       "      <td>Netflix|Disney+Hotstar|YoutubeOperating System...</td>\n",
       "      <td>35199.0</td>\n",
       "      <td>4.1</td>\n",
       "      <td>Android</td>\n",
       "      <td>60</td>\n",
       "      <td>20</td>\n",
       "    </tr>\n",
       "    <tr>\n",
       "      <th>Daiwa</th>\n",
       "      <td>Daiwa 80 cm (31.5 inch) HD Ready LED TV</td>\n",
       "      <td>HD Ready 1366 x 768 Pixels20 W Speaker Output6...</td>\n",
       "      <td>13699.0</td>\n",
       "      <td>4.0</td>\n",
       "      <td>Android</td>\n",
       "      <td>60</td>\n",
       "      <td>20</td>\n",
       "    </tr>\n",
       "    <tr>\n",
       "      <th>Dektron</th>\n",
       "      <td>Dektron 48 cm (19 inch) HD Ready LED TV</td>\n",
       "      <td>HD Ready 1366 x 768 Pixels10 W Speaker Output6...</td>\n",
       "      <td>5499.0</td>\n",
       "      <td>3.5</td>\n",
       "      <td>Android</td>\n",
       "      <td>60</td>\n",
       "      <td>10</td>\n",
       "    </tr>\n",
       "    <tr>\n",
       "      <th>Dyanora</th>\n",
       "      <td>Dyanora 60 cm (24 inch) HD Ready LED Smart TV</td>\n",
       "      <td>Netflix|Prime Video|Disney+Hotstar|YoutubeOper...</td>\n",
       "      <td>8499.0</td>\n",
       "      <td>4.2</td>\n",
       "      <td>Android</td>\n",
       "      <td>60</td>\n",
       "      <td>20</td>\n",
       "    </tr>\n",
       "    <tr>\n",
       "      <th>HUIDI</th>\n",
       "      <td>HUIDI 80 cm (32 inch) HD Ready LED TV</td>\n",
       "      <td>HD Ready 1366 x 768 Pixels20 W Speaker Output6...</td>\n",
       "      <td>8999.0</td>\n",
       "      <td>4.0</td>\n",
       "      <td>Android</td>\n",
       "      <td>60</td>\n",
       "      <td>20</td>\n",
       "    </tr>\n",
       "    <tr>\n",
       "      <th>Haier</th>\n",
       "      <td>Haier 108 cm (43 inch) Ultra HD (4K) LED Smart...</td>\n",
       "      <td>Netflix|Prime Video|Disney+Hotstar|YoutubeOper...</td>\n",
       "      <td>34999.0</td>\n",
       "      <td>4.2</td>\n",
       "      <td>Android</td>\n",
       "      <td>60</td>\n",
       "      <td>20</td>\n",
       "    </tr>\n",
       "    <tr>\n",
       "      <th>Hisense</th>\n",
       "      <td>Hisense A6GE Series 108 cm (43 inch) Ultra HD ...</td>\n",
       "      <td>Netflix|Prime Video|Disney+Hotstar|YoutubeOper...</td>\n",
       "      <td>29990.0</td>\n",
       "      <td>4.3</td>\n",
       "      <td>Android</td>\n",
       "      <td>60</td>\n",
       "      <td>24</td>\n",
       "    </tr>\n",
       "    <tr>\n",
       "      <th>Hyundai</th>\n",
       "      <td>Hyundai 80 cm (32 inch) HD Ready LED Smart And...</td>\n",
       "      <td>Netflix|Disney+Hotstar|YoutubeOperating System...</td>\n",
       "      <td>16000.0</td>\n",
       "      <td>4.2</td>\n",
       "      <td>Android</td>\n",
       "      <td>60</td>\n",
       "      <td>20</td>\n",
       "    </tr>\n",
       "    <tr>\n",
       "      <th>IMPEX</th>\n",
       "      <td>IMPEX 108 cm (43 inch) Full HD LED TV</td>\n",
       "      <td>Operating System: HomeOSFull HD 1920 x 1080 Pi...</td>\n",
       "      <td>32029.0</td>\n",
       "      <td>4.0</td>\n",
       "      <td>Android</td>\n",
       "      <td>50</td>\n",
       "      <td>16</td>\n",
       "    </tr>\n",
       "    <tr>\n",
       "      <th>INB</th>\n",
       "      <td>INB 80 cm (32 inch) HD Ready LED TV</td>\n",
       "      <td>HD Ready 1366 x 768 Pixels20 W Speaker Output6...</td>\n",
       "      <td>9999.0</td>\n",
       "      <td>4.2</td>\n",
       "      <td>Android</td>\n",
       "      <td>60</td>\n",
       "      <td>20</td>\n",
       "    </tr>\n",
       "    <tr>\n",
       "      <th>Infinix</th>\n",
       "      <td>Infinix X3 80 cm (32 inch) HD Ready LED Smart ...</td>\n",
       "      <td>Netflix|Prime Video|Disney+Hotstar|YoutubeOper...</td>\n",
       "      <td>12499.0</td>\n",
       "      <td>3.8</td>\n",
       "      <td>Android</td>\n",
       "      <td>60</td>\n",
       "      <td>20</td>\n",
       "    </tr>\n",
       "    <tr>\n",
       "      <th>Intex</th>\n",
       "      <td>Intex 98 cm (39 inch) HD Ready LED TV</td>\n",
       "      <td>HD Ready 1366 x 768 Pixels20 W Speaker Output6...</td>\n",
       "      <td>27990.0</td>\n",
       "      <td>4.2</td>\n",
       "      <td>Android</td>\n",
       "      <td>60</td>\n",
       "      <td>20</td>\n",
       "    </tr>\n",
       "    <tr>\n",
       "      <th>JVC</th>\n",
       "      <td>JVC 140 cm (55 inch) Ultra HD (4K) LED Smart T...</td>\n",
       "      <td>Netflix|Prime Video|Disney+Hotstar|YoutubeOper...</td>\n",
       "      <td>37999.0</td>\n",
       "      <td>4.1</td>\n",
       "      <td>Android</td>\n",
       "      <td>60</td>\n",
       "      <td>50</td>\n",
       "    </tr>\n",
       "    <tr>\n",
       "      <th>KODAK</th>\n",
       "      <td>KODAK CA PRO 108 cm (43 inch) Ultra HD (4K) LE...</td>\n",
       "      <td>Netflix|Prime Video|Disney+Hotstar|YoutubeOper...</td>\n",
       "      <td>27999.0</td>\n",
       "      <td>4.6</td>\n",
       "      <td>Android</td>\n",
       "      <td>60</td>\n",
       "      <td>40</td>\n",
       "    </tr>\n",
       "    <tr>\n",
       "      <th>Kevin</th>\n",
       "      <td>Kevin 140 cm (55 inch) Ultra HD (4K) LED Smart TV</td>\n",
       "      <td>Netflix|Disney+Hotstar|YoutubeOperating System...</td>\n",
       "      <td>42999.0</td>\n",
       "      <td>4.2</td>\n",
       "      <td>Android</td>\n",
       "      <td>60</td>\n",
       "      <td>20</td>\n",
       "    </tr>\n",
       "    <tr>\n",
       "      <th>LG</th>\n",
       "      <td>LG 80 cm (32 inch) HD Ready LED Smart TV</td>\n",
       "      <td>Netflix|Prime Video|Disney+Hotstar|YoutubeOper...</td>\n",
       "      <td>17499.0</td>\n",
       "      <td>4.4</td>\n",
       "      <td>WebOS</td>\n",
       "      <td>50</td>\n",
       "      <td>10</td>\n",
       "    </tr>\n",
       "    <tr>\n",
       "      <th>Lloyd</th>\n",
       "      <td>Lloyd 98 cm (38.5 inch) Full HD LED TV</td>\n",
       "      <td>Full HD 1920 x 1080 Pixels14 W Speaker Output6...</td>\n",
       "      <td>20990.0</td>\n",
       "      <td>3.9</td>\n",
       "      <td>Android</td>\n",
       "      <td>60</td>\n",
       "      <td>14</td>\n",
       "    </tr>\n",
       "    <tr>\n",
       "      <th>LumX</th>\n",
       "      <td>LumX Border Less 60 cm (24 inch) HD Ready LED TV</td>\n",
       "      <td>HD Ready 1366X768 Pixels20W Speaker Output60 H...</td>\n",
       "      <td>7890.0</td>\n",
       "      <td>3.9</td>\n",
       "      <td>Android</td>\n",
       "      <td>60</td>\n",
       "      <td>20</td>\n",
       "    </tr>\n",
       "    <tr>\n",
       "      <th>MOTOROLA</th>\n",
       "      <td>MOTOROLA ZX2 100 cm (40 inch) Full HD LED Smar...</td>\n",
       "      <td>Netflix|Prime Video|Disney+Hotstar|YoutubeOper...</td>\n",
       "      <td>25999.0</td>\n",
       "      <td>4.4</td>\n",
       "      <td>Android</td>\n",
       "      <td>60</td>\n",
       "      <td>40</td>\n",
       "    </tr>\n",
       "    <tr>\n",
       "      <th>MarQ</th>\n",
       "      <td>MarQ By Flipkart 80 cm (32 inch) HD Ready LED TV</td>\n",
       "      <td>HD Ready 1366 X 768 Pixels20 W Speaker Output6...</td>\n",
       "      <td>8999.0</td>\n",
       "      <td>4.2</td>\n",
       "      <td>Android</td>\n",
       "      <td>60</td>\n",
       "      <td>20</td>\n",
       "    </tr>\n",
       "    <tr>\n",
       "      <th>Mi</th>\n",
       "      <td>Mi 4A PRO 80 cm (32 inch) HD Ready LED Smart A...</td>\n",
       "      <td>Netflix|Prime Video|Disney+Hotstar|YoutubeOper...</td>\n",
       "      <td>16499.0</td>\n",
       "      <td>4.4</td>\n",
       "      <td>Android</td>\n",
       "      <td>60</td>\n",
       "      <td>20</td>\n",
       "    </tr>\n",
       "    <tr>\n",
       "      <th>Micromax</th>\n",
       "      <td>Micromax Smart LED TV 98 cm (38.5 inch) HD Rea...</td>\n",
       "      <td>Netflix|Prime Video|Disney+Hotstar|YoutubeOper...</td>\n",
       "      <td>18999.0</td>\n",
       "      <td>3.6</td>\n",
       "      <td>Android</td>\n",
       "      <td>60</td>\n",
       "      <td>20</td>\n",
       "    </tr>\n",
       "    <tr>\n",
       "      <th>NOKIA</th>\n",
       "      <td>NOKIA 165 cm (65 inch) Ultra HD 4K LED Smart A...</td>\n",
       "      <td>Netflix|Prime Video|Disney+Hotstar|YoutubeOper...</td>\n",
       "      <td>62999.0</td>\n",
       "      <td>4.4</td>\n",
       "      <td>Android</td>\n",
       "      <td>60</td>\n",
       "      <td>48</td>\n",
       "    </tr>\n",
       "    <tr>\n",
       "      <th>Nacson</th>\n",
       "      <td>Nacson 102 cm (40 inch) Full HD LED Smart TV</td>\n",
       "      <td>Netflix|Disney+Hotstar|YoutubeOperating System...</td>\n",
       "      <td>15990.0</td>\n",
       "      <td>4.0</td>\n",
       "      <td>Android</td>\n",
       "      <td>60</td>\n",
       "      <td>16</td>\n",
       "    </tr>\n",
       "    <tr>\n",
       "      <th>Nokia</th>\n",
       "      <td>Nokia 126 cm (50 inch) Ultra HD (4K) LED Smart...</td>\n",
       "      <td>Netflix|Prime Video|Disney+Hotstar|YoutubeOper...</td>\n",
       "      <td>37999.0</td>\n",
       "      <td>4.3</td>\n",
       "      <td>Android</td>\n",
       "      <td>60</td>\n",
       "      <td>48</td>\n",
       "    </tr>\n",
       "    <tr>\n",
       "      <th>ONIDA</th>\n",
       "      <td>ONIDA 109.22 cm (43 inch) Full HD LED Smart TV</td>\n",
       "      <td>YoutubeFull HD 1920 x 1080 Pixels16W Speaker O...</td>\n",
       "      <td>29499.0</td>\n",
       "      <td>4.2</td>\n",
       "      <td>Android</td>\n",
       "      <td>60</td>\n",
       "      <td>20</td>\n",
       "    </tr>\n",
       "    <tr>\n",
       "      <th>OnePlus</th>\n",
       "      <td>OnePlus Y1 80 cm (32 inch) HD Ready LED Smart ...</td>\n",
       "      <td>Netflix|Prime Video|Disney+Hotstar|YoutubeOper...</td>\n",
       "      <td>15999.0</td>\n",
       "      <td>4.3</td>\n",
       "      <td>Android</td>\n",
       "      <td>60</td>\n",
       "      <td>20</td>\n",
       "    </tr>\n",
       "    <tr>\n",
       "      <th>Onix</th>\n",
       "      <td>Onix 108 cm (43 inch) Full HD LED Smart Androi...</td>\n",
       "      <td>Netflix|Disney+Hotstar|YoutubeOperating System...</td>\n",
       "      <td>46979.0</td>\n",
       "      <td>4.2</td>\n",
       "      <td>Android</td>\n",
       "      <td>60</td>\n",
       "      <td>16</td>\n",
       "    </tr>\n",
       "    <tr>\n",
       "      <th>Oxygen</th>\n",
       "      <td>Oxygen A2 108 cm (43 inch) Ultra HD (4K) LED S...</td>\n",
       "      <td>Netflix|Prime Video|YoutubeOperating System: A...</td>\n",
       "      <td>32990.0</td>\n",
       "      <td>4.2</td>\n",
       "      <td>Android</td>\n",
       "      <td>60</td>\n",
       "      <td>20</td>\n",
       "    </tr>\n",
       "    <tr>\n",
       "      <th>PHILIPS</th>\n",
       "      <td>PHILIPS 7600 Series 126 cm (50 inch) Ultra HD ...</td>\n",
       "      <td>Netflix|Prime Video|YoutubeOperating System: L...</td>\n",
       "      <td>39999.0</td>\n",
       "      <td>4.0</td>\n",
       "      <td>Linux</td>\n",
       "      <td>60</td>\n",
       "      <td>20</td>\n",
       "    </tr>\n",
       "    <tr>\n",
       "      <th>Panasonic</th>\n",
       "      <td>Panasonic FX600 Series 139 cm (55 inch) Ultra ...</td>\n",
       "      <td>Netflix|YoutubeOperating System: Linux basedUl...</td>\n",
       "      <td>69999.0</td>\n",
       "      <td>4.1</td>\n",
       "      <td>Linux</td>\n",
       "      <td>60</td>\n",
       "      <td>20</td>\n",
       "    </tr>\n",
       "    <tr>\n",
       "      <th>RGL</th>\n",
       "      <td>RGL 60 cm (24 inch) HD Ready LED TV</td>\n",
       "      <td>HD Ready 1366 x 768 Pixels16 W Speaker Output6...</td>\n",
       "      <td>7990.0</td>\n",
       "      <td>3.9</td>\n",
       "      <td>Android</td>\n",
       "      <td>60</td>\n",
       "      <td>16</td>\n",
       "    </tr>\n",
       "    <tr>\n",
       "      <th>SAMSUNG</th>\n",
       "      <td>SAMSUNG 80 cm (32 inch) HD Ready LED Smart TV</td>\n",
       "      <td>Netflix|Disney+Hotstar|YoutubeOperating System...</td>\n",
       "      <td>16999.0</td>\n",
       "      <td>4.4</td>\n",
       "      <td>Tizen</td>\n",
       "      <td>60</td>\n",
       "      <td>20</td>\n",
       "    </tr>\n",
       "    <tr>\n",
       "      <th>SONY</th>\n",
       "      <td>SONY BRAVIA 80 cm (32 inch) HD Ready LED Smart TV</td>\n",
       "      <td>Netflix|Prime Video|YoutubeOperating System: L...</td>\n",
       "      <td>23999.0</td>\n",
       "      <td>4.5</td>\n",
       "      <td>Linux</td>\n",
       "      <td>50</td>\n",
       "      <td>20</td>\n",
       "    </tr>\n",
       "    <tr>\n",
       "      <th>Sansui</th>\n",
       "      <td>Sansui 80 cm (32 inch) HD Ready LED Smart Andr...</td>\n",
       "      <td>Netflix|Disney+Hotstar|YoutubeOperating System...</td>\n",
       "      <td>14999.0</td>\n",
       "      <td>4.2</td>\n",
       "      <td>Android</td>\n",
       "      <td>60</td>\n",
       "      <td>20</td>\n",
       "    </tr>\n",
       "    <tr>\n",
       "      <th>Sharp</th>\n",
       "      <td>Sharp 101.6 cm (40 inch) Full HD LED Smart TV</td>\n",
       "      <td>Full HD 1920 x 1080 Pixels15 Speaker Output60 ...</td>\n",
       "      <td>20390.0</td>\n",
       "      <td>4.2</td>\n",
       "      <td>Android</td>\n",
       "      <td>60</td>\n",
       "      <td>20</td>\n",
       "    </tr>\n",
       "    <tr>\n",
       "      <th>Skyworth</th>\n",
       "      <td>Skyworth 101 cm (40 inch) Full HD LED TV</td>\n",
       "      <td>Full HD 1080 P Pixels10*2 Speaker Output60 Hz ...</td>\n",
       "      <td>17050.0</td>\n",
       "      <td>4.2</td>\n",
       "      <td>Android</td>\n",
       "      <td>60</td>\n",
       "      <td>20</td>\n",
       "    </tr>\n",
       "    <tr>\n",
       "      <th>T-Series</th>\n",
       "      <td>T-Series 60 cm (24 inch) HD Ready LED TV</td>\n",
       "      <td>HD Ready 1366x768 Pixels8+8 Speaker Output50 H...</td>\n",
       "      <td>9490.0</td>\n",
       "      <td>4.2</td>\n",
       "      <td>Android</td>\n",
       "      <td>50</td>\n",
       "      <td>20</td>\n",
       "    </tr>\n",
       "    <tr>\n",
       "      <th>TCL</th>\n",
       "      <td>TCL S65A Series 79.97 cm (32 inch) HD Ready LE...</td>\n",
       "      <td>Netflix|Disney+Hotstar|YoutubeOperating System...</td>\n",
       "      <td>16999.0</td>\n",
       "      <td>4.2</td>\n",
       "      <td>Android</td>\n",
       "      <td>60</td>\n",
       "      <td>20</td>\n",
       "    </tr>\n",
       "    <tr>\n",
       "      <th>TOSHIBA</th>\n",
       "      <td>TOSHIBA U50 Series 126 cm (50 inch) Ultra HD (...</td>\n",
       "      <td>Netflix|Prime Video|YoutubeOperating System: V...</td>\n",
       "      <td>35999.0</td>\n",
       "      <td>4.3</td>\n",
       "      <td>Android</td>\n",
       "      <td>60</td>\n",
       "      <td>30</td>\n",
       "    </tr>\n",
       "    <tr>\n",
       "      <th>Thomson</th>\n",
       "      <td>Thomson 9A Series 80 cm (32 inch) HD Ready LED...</td>\n",
       "      <td>Prime Video|Disney+Hotstar|YoutubeOperating Sy...</td>\n",
       "      <td>12499.0</td>\n",
       "      <td>4.4</td>\n",
       "      <td>Android</td>\n",
       "      <td>60</td>\n",
       "      <td>24</td>\n",
       "    </tr>\n",
       "    <tr>\n",
       "      <th>VG</th>\n",
       "      <td>VG 80 cm (32 inch) HD Ready LED Smart TV</td>\n",
       "      <td>Netflix|Prime Video|Disney+Hotstar|YoutubeOper...</td>\n",
       "      <td>13990.0</td>\n",
       "      <td>4.2</td>\n",
       "      <td>Android</td>\n",
       "      <td>60</td>\n",
       "      <td>24</td>\n",
       "    </tr>\n",
       "    <tr>\n",
       "      <th>Vu</th>\n",
       "      <td>Vu Premium TV 80 cm (32 inch) HD Ready LED Sma...</td>\n",
       "      <td>Netflix|Prime Video|YoutubeOperating System: L...</td>\n",
       "      <td>12999.0</td>\n",
       "      <td>4.2</td>\n",
       "      <td>Linux</td>\n",
       "      <td>60</td>\n",
       "      <td>20</td>\n",
       "    </tr>\n",
       "    <tr>\n",
       "      <th>acer</th>\n",
       "      <td>acer Boundless series 80 cm (32 inch) HD Ready...</td>\n",
       "      <td>Netflix|Prime Video|Disney+Hotstar|YoutubeOper...</td>\n",
       "      <td>12999.0</td>\n",
       "      <td>4.5</td>\n",
       "      <td>Android</td>\n",
       "      <td>60</td>\n",
       "      <td>24</td>\n",
       "    </tr>\n",
       "    <tr>\n",
       "      <th>iFFALCON</th>\n",
       "      <td>iFFALCON 139 cm (55 inch) Ultra HD (4K) LED Sm...</td>\n",
       "      <td>Netflix|Disney+Hotstar|YoutubeOperating System...</td>\n",
       "      <td>37999.0</td>\n",
       "      <td>4.3</td>\n",
       "      <td>Android</td>\n",
       "      <td>60</td>\n",
       "      <td>24</td>\n",
       "    </tr>\n",
       "    <tr>\n",
       "      <th>kinger</th>\n",
       "      <td>kinger 81 cm (32 inch) Full HD LED Smart Andro...</td>\n",
       "      <td>Netflix|Prime Video|Disney+Hotstar|YoutubeOper...</td>\n",
       "      <td>13999.0</td>\n",
       "      <td>4.2</td>\n",
       "      <td>Android</td>\n",
       "      <td>60</td>\n",
       "      <td>20</td>\n",
       "    </tr>\n",
       "    <tr>\n",
       "      <th>realme</th>\n",
       "      <td>realme 80 cm (32 inch) HD Ready LED Smart Andr...</td>\n",
       "      <td>Netflix|Prime Video|Disney+Hotstar|YoutubeOper...</td>\n",
       "      <td>15999.0</td>\n",
       "      <td>4.3</td>\n",
       "      <td>Android</td>\n",
       "      <td>60</td>\n",
       "      <td>24</td>\n",
       "    </tr>\n",
       "  </tbody>\n",
       "</table>\n",
       "</div>"
      ],
      "text/plain": [
       "                                           Name of the Product  \\\n",
       "Brand                                                            \n",
       "AISEN                   AISEN 100 cm (40 inch) HD Ready LED TV   \n",
       "Adsun                    Adsun 80 cm (32 inch) HD Ready LED TV   \n",
       "Akai         Akai 139.7 cm (55 inch) QLED Ultra HD (4K) Sma...   \n",
       "BPL            BPL 127 cm (50 inch) Ultra HD (4K) LED Smart TV   \n",
       "Blackox      Blackox Super Premium 61 cm (24 inch) Full HD ...   \n",
       "Blaupunkt    Blaupunkt Cybersound 98 cm (40 Inch) HD Ready ...   \n",
       "Candes       Candes 80 cm (32 inch) HD Ready LED Smart Andr...   \n",
       "CloudWalker  CloudWalker Spectra 109 cm (43 inch) Full HD L...   \n",
       "Compaq       Compaq HUEQ G43B 108 cm (43 inch) Ultra HD (4K...   \n",
       "Coocaa       Coocaa 80 cm (32 inch) HD Ready LED Smart TV w...   \n",
       "Croma                  Croma 60.9 cm (24 inch) HD Ready LED TV   \n",
       "DACS         DACS D13X 80 cm (32 inch) HD Ready LED Smart A...   \n",
       "DETEL        DETEL 140 cm (55 inch) Ultra HD (4K) LED Smart...   \n",
       "Daiwa                  Daiwa 80 cm (31.5 inch) HD Ready LED TV   \n",
       "Dektron                Dektron 48 cm (19 inch) HD Ready LED TV   \n",
       "Dyanora          Dyanora 60 cm (24 inch) HD Ready LED Smart TV   \n",
       "HUIDI                    HUIDI 80 cm (32 inch) HD Ready LED TV   \n",
       "Haier        Haier 108 cm (43 inch) Ultra HD (4K) LED Smart...   \n",
       "Hisense      Hisense A6GE Series 108 cm (43 inch) Ultra HD ...   \n",
       "Hyundai      Hyundai 80 cm (32 inch) HD Ready LED Smart And...   \n",
       "IMPEX                    IMPEX 108 cm (43 inch) Full HD LED TV   \n",
       "INB                        INB 80 cm (32 inch) HD Ready LED TV   \n",
       "Infinix      Infinix X3 80 cm (32 inch) HD Ready LED Smart ...   \n",
       "Intex                    Intex 98 cm (39 inch) HD Ready LED TV   \n",
       "JVC          JVC 140 cm (55 inch) Ultra HD (4K) LED Smart T...   \n",
       "KODAK        KODAK CA PRO 108 cm (43 inch) Ultra HD (4K) LE...   \n",
       "Kevin        Kevin 140 cm (55 inch) Ultra HD (4K) LED Smart TV   \n",
       "LG                    LG 80 cm (32 inch) HD Ready LED Smart TV   \n",
       "Lloyd                   Lloyd 98 cm (38.5 inch) Full HD LED TV   \n",
       "LumX          LumX Border Less 60 cm (24 inch) HD Ready LED TV   \n",
       "MOTOROLA     MOTOROLA ZX2 100 cm (40 inch) Full HD LED Smar...   \n",
       "MarQ          MarQ By Flipkart 80 cm (32 inch) HD Ready LED TV   \n",
       "Mi           Mi 4A PRO 80 cm (32 inch) HD Ready LED Smart A...   \n",
       "Micromax     Micromax Smart LED TV 98 cm (38.5 inch) HD Rea...   \n",
       "NOKIA        NOKIA 165 cm (65 inch) Ultra HD 4K LED Smart A...   \n",
       "Nacson            Nacson 102 cm (40 inch) Full HD LED Smart TV   \n",
       "Nokia        Nokia 126 cm (50 inch) Ultra HD (4K) LED Smart...   \n",
       "ONIDA           ONIDA 109.22 cm (43 inch) Full HD LED Smart TV   \n",
       "OnePlus      OnePlus Y1 80 cm (32 inch) HD Ready LED Smart ...   \n",
       "Onix         Onix 108 cm (43 inch) Full HD LED Smart Androi...   \n",
       "Oxygen       Oxygen A2 108 cm (43 inch) Ultra HD (4K) LED S...   \n",
       "PHILIPS      PHILIPS 7600 Series 126 cm (50 inch) Ultra HD ...   \n",
       "Panasonic    Panasonic FX600 Series 139 cm (55 inch) Ultra ...   \n",
       "RGL                        RGL 60 cm (24 inch) HD Ready LED TV   \n",
       "SAMSUNG          SAMSUNG 80 cm (32 inch) HD Ready LED Smart TV   \n",
       "SONY         SONY BRAVIA 80 cm (32 inch) HD Ready LED Smart TV   \n",
       "Sansui       Sansui 80 cm (32 inch) HD Ready LED Smart Andr...   \n",
       "Sharp            Sharp 101.6 cm (40 inch) Full HD LED Smart TV   \n",
       "Skyworth              Skyworth 101 cm (40 inch) Full HD LED TV   \n",
       "T-Series              T-Series 60 cm (24 inch) HD Ready LED TV   \n",
       "TCL          TCL S65A Series 79.97 cm (32 inch) HD Ready LE...   \n",
       "TOSHIBA      TOSHIBA U50 Series 126 cm (50 inch) Ultra HD (...   \n",
       "Thomson      Thomson 9A Series 80 cm (32 inch) HD Ready LED...   \n",
       "VG                    VG 80 cm (32 inch) HD Ready LED Smart TV   \n",
       "Vu           Vu Premium TV 80 cm (32 inch) HD Ready LED Sma...   \n",
       "acer         acer Boundless series 80 cm (32 inch) HD Ready...   \n",
       "iFFALCON     iFFALCON 139 cm (55 inch) Ultra HD (4K) LED Sm...   \n",
       "kinger       kinger 81 cm (32 inch) Full HD LED Smart Andro...   \n",
       "realme       realme 80 cm (32 inch) HD Ready LED Smart Andr...   \n",
       "\n",
       "                                                Specifications    Price  \\\n",
       "Brand                                                                     \n",
       "AISEN        HD Ready 1366 x 768 Pixels16 W Speaker Output6...  17990.0   \n",
       "Adsun        HD Ready 1366 x 768 Pixels20 W Speaker Output6...   8499.0   \n",
       "Akai         Ultra HD (4K) 1920 x 1080 Pixels10W x 2 Speake...  55947.0   \n",
       "BPL          Ultra HD (4K) 3840 x 2160 - Ultra HD Pixels8W ...  31500.0   \n",
       "Blackox      Full HD 1920 x 1080 Pixels20 W Speaker Output5...   7999.0   \n",
       "Blaupunkt    Prime Video|Disney+Hotstar|YoutubeOperating Sy...  15999.0   \n",
       "Candes       Netflix|Prime Video|Disney+Hotstar|YoutubeOper...  11639.0   \n",
       "CloudWalker  Full HD 1920 x 1080 Pixels20 W Speaker Output6...  17999.0   \n",
       "Compaq       Netflix|Prime Video|Disney+Hotstar|YoutubeOper...  24999.0   \n",
       "Coocaa       YoutubeOperating System: CoolitaHD Ready 1366 ...  10499.0   \n",
       "Croma        HD Ready 1366 x 786 Pixels16 W Speaker Output6...   6990.0   \n",
       "DACS         Netflix|Prime Video|Disney+Hotstar|YoutubeOper...  13999.0   \n",
       "DETEL        Netflix|Disney+Hotstar|YoutubeOperating System...  35199.0   \n",
       "Daiwa        HD Ready 1366 x 768 Pixels20 W Speaker Output6...  13699.0   \n",
       "Dektron      HD Ready 1366 x 768 Pixels10 W Speaker Output6...   5499.0   \n",
       "Dyanora      Netflix|Prime Video|Disney+Hotstar|YoutubeOper...   8499.0   \n",
       "HUIDI        HD Ready 1366 x 768 Pixels20 W Speaker Output6...   8999.0   \n",
       "Haier        Netflix|Prime Video|Disney+Hotstar|YoutubeOper...  34999.0   \n",
       "Hisense      Netflix|Prime Video|Disney+Hotstar|YoutubeOper...  29990.0   \n",
       "Hyundai      Netflix|Disney+Hotstar|YoutubeOperating System...  16000.0   \n",
       "IMPEX        Operating System: HomeOSFull HD 1920 x 1080 Pi...  32029.0   \n",
       "INB          HD Ready 1366 x 768 Pixels20 W Speaker Output6...   9999.0   \n",
       "Infinix      Netflix|Prime Video|Disney+Hotstar|YoutubeOper...  12499.0   \n",
       "Intex        HD Ready 1366 x 768 Pixels20 W Speaker Output6...  27990.0   \n",
       "JVC          Netflix|Prime Video|Disney+Hotstar|YoutubeOper...  37999.0   \n",
       "KODAK        Netflix|Prime Video|Disney+Hotstar|YoutubeOper...  27999.0   \n",
       "Kevin        Netflix|Disney+Hotstar|YoutubeOperating System...  42999.0   \n",
       "LG           Netflix|Prime Video|Disney+Hotstar|YoutubeOper...  17499.0   \n",
       "Lloyd        Full HD 1920 x 1080 Pixels14 W Speaker Output6...  20990.0   \n",
       "LumX         HD Ready 1366X768 Pixels20W Speaker Output60 H...   7890.0   \n",
       "MOTOROLA     Netflix|Prime Video|Disney+Hotstar|YoutubeOper...  25999.0   \n",
       "MarQ         HD Ready 1366 X 768 Pixels20 W Speaker Output6...   8999.0   \n",
       "Mi           Netflix|Prime Video|Disney+Hotstar|YoutubeOper...  16499.0   \n",
       "Micromax     Netflix|Prime Video|Disney+Hotstar|YoutubeOper...  18999.0   \n",
       "NOKIA        Netflix|Prime Video|Disney+Hotstar|YoutubeOper...  62999.0   \n",
       "Nacson       Netflix|Disney+Hotstar|YoutubeOperating System...  15990.0   \n",
       "Nokia        Netflix|Prime Video|Disney+Hotstar|YoutubeOper...  37999.0   \n",
       "ONIDA        YoutubeFull HD 1920 x 1080 Pixels16W Speaker O...  29499.0   \n",
       "OnePlus      Netflix|Prime Video|Disney+Hotstar|YoutubeOper...  15999.0   \n",
       "Onix         Netflix|Disney+Hotstar|YoutubeOperating System...  46979.0   \n",
       "Oxygen       Netflix|Prime Video|YoutubeOperating System: A...  32990.0   \n",
       "PHILIPS      Netflix|Prime Video|YoutubeOperating System: L...  39999.0   \n",
       "Panasonic    Netflix|YoutubeOperating System: Linux basedUl...  69999.0   \n",
       "RGL          HD Ready 1366 x 768 Pixels16 W Speaker Output6...   7990.0   \n",
       "SAMSUNG      Netflix|Disney+Hotstar|YoutubeOperating System...  16999.0   \n",
       "SONY         Netflix|Prime Video|YoutubeOperating System: L...  23999.0   \n",
       "Sansui       Netflix|Disney+Hotstar|YoutubeOperating System...  14999.0   \n",
       "Sharp        Full HD 1920 x 1080 Pixels15 Speaker Output60 ...  20390.0   \n",
       "Skyworth     Full HD 1080 P Pixels10*2 Speaker Output60 Hz ...  17050.0   \n",
       "T-Series     HD Ready 1366x768 Pixels8+8 Speaker Output50 H...   9490.0   \n",
       "TCL          Netflix|Disney+Hotstar|YoutubeOperating System...  16999.0   \n",
       "TOSHIBA      Netflix|Prime Video|YoutubeOperating System: V...  35999.0   \n",
       "Thomson      Prime Video|Disney+Hotstar|YoutubeOperating Sy...  12499.0   \n",
       "VG           Netflix|Prime Video|Disney+Hotstar|YoutubeOper...  13990.0   \n",
       "Vu           Netflix|Prime Video|YoutubeOperating System: L...  12999.0   \n",
       "acer         Netflix|Prime Video|Disney+Hotstar|YoutubeOper...  12999.0   \n",
       "iFFALCON     Netflix|Disney+Hotstar|YoutubeOperating System...  37999.0   \n",
       "kinger       Netflix|Prime Video|Disney+Hotstar|YoutubeOper...  13999.0   \n",
       "realme       Netflix|Prime Video|Disney+Hotstar|YoutubeOper...  15999.0   \n",
       "\n",
       "             Rating Operating_System  Refresh_Rate(inHz)  Speaker_Output(in W)  \n",
       "Brand                                                                           \n",
       "AISEN           3.3          Android                  60                    16  \n",
       "Adsun           3.8          Android                  60                    20  \n",
       "Akai            4.2          Android                  60                    20  \n",
       "BPL             4.2          Android                  60                    20  \n",
       "Blackox         4.2          Android                  50                    20  \n",
       "Blaupunkt       4.4          Android                  60                    40  \n",
       "Candes          3.9          Android                  60                    20  \n",
       "CloudWalker     4.3          Android                  60                    20  \n",
       "Compaq          3.9          Android                  60                    24  \n",
       "Coocaa          4.2          Android                  60                    20  \n",
       "Croma           4.3          Android                  60                    16  \n",
       "DACS            4.2          Android                  60                    20  \n",
       "DETEL           4.1          Android                  60                    20  \n",
       "Daiwa           4.0          Android                  60                    20  \n",
       "Dektron         3.5          Android                  60                    10  \n",
       "Dyanora         4.2          Android                  60                    20  \n",
       "HUIDI           4.0          Android                  60                    20  \n",
       "Haier           4.2          Android                  60                    20  \n",
       "Hisense         4.3          Android                  60                    24  \n",
       "Hyundai         4.2          Android                  60                    20  \n",
       "IMPEX           4.0          Android                  50                    16  \n",
       "INB             4.2          Android                  60                    20  \n",
       "Infinix         3.8          Android                  60                    20  \n",
       "Intex           4.2          Android                  60                    20  \n",
       "JVC             4.1          Android                  60                    50  \n",
       "KODAK           4.6          Android                  60                    40  \n",
       "Kevin           4.2          Android                  60                    20  \n",
       "LG              4.4            WebOS                  50                    10  \n",
       "Lloyd           3.9          Android                  60                    14  \n",
       "LumX            3.9          Android                  60                    20  \n",
       "MOTOROLA        4.4          Android                  60                    40  \n",
       "MarQ            4.2          Android                  60                    20  \n",
       "Mi              4.4          Android                  60                    20  \n",
       "Micromax        3.6          Android                  60                    20  \n",
       "NOKIA           4.4          Android                  60                    48  \n",
       "Nacson          4.0          Android                  60                    16  \n",
       "Nokia           4.3          Android                  60                    48  \n",
       "ONIDA           4.2          Android                  60                    20  \n",
       "OnePlus         4.3          Android                  60                    20  \n",
       "Onix            4.2          Android                  60                    16  \n",
       "Oxygen          4.2          Android                  60                    20  \n",
       "PHILIPS         4.0            Linux                  60                    20  \n",
       "Panasonic       4.1            Linux                  60                    20  \n",
       "RGL             3.9          Android                  60                    16  \n",
       "SAMSUNG         4.4            Tizen                  60                    20  \n",
       "SONY            4.5            Linux                  50                    20  \n",
       "Sansui          4.2          Android                  60                    20  \n",
       "Sharp           4.2          Android                  60                    20  \n",
       "Skyworth        4.2          Android                  60                    20  \n",
       "T-Series        4.2          Android                  50                    20  \n",
       "TCL             4.2          Android                  60                    20  \n",
       "TOSHIBA         4.3          Android                  60                    30  \n",
       "Thomson         4.4          Android                  60                    24  \n",
       "VG              4.2          Android                  60                    24  \n",
       "Vu              4.2            Linux                  60                    20  \n",
       "acer            4.5          Android                  60                    24  \n",
       "iFFALCON        4.3          Android                  60                    24  \n",
       "kinger          4.2          Android                  60                    20  \n",
       "realme          4.3          Android                  60                    24  "
      ]
     },
     "execution_count": 23,
     "metadata": {},
     "output_type": "execute_result"
    }
   ],
   "source": [
    "df2.first()"
   ]
  },
  {
   "cell_type": "code",
   "execution_count": 24,
   "id": "dec001da",
   "metadata": {},
   "outputs": [],
   "source": [
    "df3=df.groupby('Operating_System')"
   ]
  },
  {
   "cell_type": "code",
   "execution_count": 25,
   "id": "faea9742",
   "metadata": {},
   "outputs": [
    {
     "data": {
      "text/html": [
       "<div>\n",
       "<style scoped>\n",
       "    .dataframe tbody tr th:only-of-type {\n",
       "        vertical-align: middle;\n",
       "    }\n",
       "\n",
       "    .dataframe tbody tr th {\n",
       "        vertical-align: top;\n",
       "    }\n",
       "\n",
       "    .dataframe thead th {\n",
       "        text-align: right;\n",
       "    }\n",
       "</style>\n",
       "<table border=\"1\" class=\"dataframe\">\n",
       "  <thead>\n",
       "    <tr style=\"text-align: right;\">\n",
       "      <th></th>\n",
       "      <th>Name of the Product</th>\n",
       "      <th>Specifications</th>\n",
       "      <th>Price</th>\n",
       "      <th>Rating</th>\n",
       "      <th>Brand</th>\n",
       "      <th>Refresh_Rate(inHz)</th>\n",
       "      <th>Speaker_Output(in W)</th>\n",
       "    </tr>\n",
       "    <tr>\n",
       "      <th>Operating_System</th>\n",
       "      <th></th>\n",
       "      <th></th>\n",
       "      <th></th>\n",
       "      <th></th>\n",
       "      <th></th>\n",
       "      <th></th>\n",
       "      <th></th>\n",
       "    </tr>\n",
       "  </thead>\n",
       "  <tbody>\n",
       "    <tr>\n",
       "      <th>Android</th>\n",
       "      <td>Adsun 80 cm (32 inch) HD Ready LED TV</td>\n",
       "      <td>HD Ready 1366 x 768 Pixels20 W Speaker Output6...</td>\n",
       "      <td>8499.0</td>\n",
       "      <td>3.8</td>\n",
       "      <td>Adsun</td>\n",
       "      <td>60</td>\n",
       "      <td>20</td>\n",
       "    </tr>\n",
       "    <tr>\n",
       "      <th>Google TV</th>\n",
       "      <td>SONY X80J 163.9 cm (65 inch) Ultra HD (4K) LED...</td>\n",
       "      <td>Netflix|Prime Video|Disney+Hotstar|YoutubeOper...</td>\n",
       "      <td>103900.0</td>\n",
       "      <td>4.8</td>\n",
       "      <td>SONY</td>\n",
       "      <td>50</td>\n",
       "      <td>20</td>\n",
       "    </tr>\n",
       "    <tr>\n",
       "      <th>Linux</th>\n",
       "      <td>Vu Premium TV 80 cm (32 inch) HD Ready LED Sma...</td>\n",
       "      <td>Netflix|Prime Video|YoutubeOperating System: L...</td>\n",
       "      <td>12999.0</td>\n",
       "      <td>4.2</td>\n",
       "      <td>Vu</td>\n",
       "      <td>60</td>\n",
       "      <td>20</td>\n",
       "    </tr>\n",
       "    <tr>\n",
       "      <th>Tizen</th>\n",
       "      <td>SAMSUNG 80 cm (32 inch) HD Ready LED Smart TV</td>\n",
       "      <td>Netflix|Disney+Hotstar|YoutubeOperating System...</td>\n",
       "      <td>16999.0</td>\n",
       "      <td>4.4</td>\n",
       "      <td>SAMSUNG</td>\n",
       "      <td>60</td>\n",
       "      <td>20</td>\n",
       "    </tr>\n",
       "    <tr>\n",
       "      <th>WebOS</th>\n",
       "      <td>LG 80 cm (32 inch) HD Ready LED Smart TV</td>\n",
       "      <td>Netflix|Prime Video|Disney+Hotstar|YoutubeOper...</td>\n",
       "      <td>17499.0</td>\n",
       "      <td>4.4</td>\n",
       "      <td>LG</td>\n",
       "      <td>50</td>\n",
       "      <td>10</td>\n",
       "    </tr>\n",
       "  </tbody>\n",
       "</table>\n",
       "</div>"
      ],
      "text/plain": [
       "                                                Name of the Product  \\\n",
       "Operating_System                                                      \n",
       "Android                       Adsun 80 cm (32 inch) HD Ready LED TV   \n",
       "Google TV         SONY X80J 163.9 cm (65 inch) Ultra HD (4K) LED...   \n",
       "Linux             Vu Premium TV 80 cm (32 inch) HD Ready LED Sma...   \n",
       "Tizen                 SAMSUNG 80 cm (32 inch) HD Ready LED Smart TV   \n",
       "WebOS                      LG 80 cm (32 inch) HD Ready LED Smart TV   \n",
       "\n",
       "                                                     Specifications     Price  \\\n",
       "Operating_System                                                                \n",
       "Android           HD Ready 1366 x 768 Pixels20 W Speaker Output6...    8499.0   \n",
       "Google TV         Netflix|Prime Video|Disney+Hotstar|YoutubeOper...  103900.0   \n",
       "Linux             Netflix|Prime Video|YoutubeOperating System: L...   12999.0   \n",
       "Tizen             Netflix|Disney+Hotstar|YoutubeOperating System...   16999.0   \n",
       "WebOS             Netflix|Prime Video|Disney+Hotstar|YoutubeOper...   17499.0   \n",
       "\n",
       "                  Rating    Brand  Refresh_Rate(inHz)  Speaker_Output(in W)  \n",
       "Operating_System                                                             \n",
       "Android              3.8    Adsun                  60                    20  \n",
       "Google TV            4.8     SONY                  50                    20  \n",
       "Linux                4.2       Vu                  60                    20  \n",
       "Tizen                4.4  SAMSUNG                  60                    20  \n",
       "WebOS                4.4       LG                  50                    10  "
      ]
     },
     "execution_count": 25,
     "metadata": {},
     "output_type": "execute_result"
    }
   ],
   "source": [
    "df3.first()"
   ]
  },
  {
   "cell_type": "code",
   "execution_count": 26,
   "id": "167f73c4",
   "metadata": {},
   "outputs": [
    {
     "data": {
      "text/html": [
       "<div>\n",
       "<style scoped>\n",
       "    .dataframe tbody tr th:only-of-type {\n",
       "        vertical-align: middle;\n",
       "    }\n",
       "\n",
       "    .dataframe tbody tr th {\n",
       "        vertical-align: top;\n",
       "    }\n",
       "\n",
       "    .dataframe thead th {\n",
       "        text-align: right;\n",
       "    }\n",
       "</style>\n",
       "<table border=\"1\" class=\"dataframe\">\n",
       "  <thead>\n",
       "    <tr style=\"text-align: right;\">\n",
       "      <th></th>\n",
       "      <th>Name of the Product</th>\n",
       "      <th>Specifications</th>\n",
       "      <th>Price</th>\n",
       "      <th>Rating</th>\n",
       "      <th>Operating_System</th>\n",
       "      <th>Brand</th>\n",
       "      <th>Refresh_Rate(inHz)</th>\n",
       "      <th>Speaker_Output(in W)</th>\n",
       "    </tr>\n",
       "  </thead>\n",
       "  <tbody>\n",
       "    <tr>\n",
       "      <th>0</th>\n",
       "      <td>Adsun 80 cm (32 inch) HD Ready LED TV</td>\n",
       "      <td>HD Ready 1366 x 768 Pixels20 W Speaker Output6...</td>\n",
       "      <td>8499.0</td>\n",
       "      <td>3.8</td>\n",
       "      <td>Android</td>\n",
       "      <td>Adsun</td>\n",
       "      <td>60</td>\n",
       "      <td>20</td>\n",
       "    </tr>\n",
       "    <tr>\n",
       "      <th>1</th>\n",
       "      <td>Adsun 60 cm (24 inch) HD Ready LED TV</td>\n",
       "      <td>HD Ready 1366 x 768 Pixels20 W Speaker Output6...</td>\n",
       "      <td>6499.0</td>\n",
       "      <td>3.8</td>\n",
       "      <td>Android</td>\n",
       "      <td>Adsun</td>\n",
       "      <td>60</td>\n",
       "      <td>20</td>\n",
       "    </tr>\n",
       "    <tr>\n",
       "      <th>2</th>\n",
       "      <td>realme 80 cm (32 inch) HD Ready LED Smart Andr...</td>\n",
       "      <td>Netflix|Prime Video|Disney+Hotstar|YoutubeOper...</td>\n",
       "      <td>15999.0</td>\n",
       "      <td>4.3</td>\n",
       "      <td>Android</td>\n",
       "      <td>realme</td>\n",
       "      <td>60</td>\n",
       "      <td>24</td>\n",
       "    </tr>\n",
       "    <tr>\n",
       "      <th>3</th>\n",
       "      <td>realme 108 cm (43 inch) Ultra HD (4K) LED Smar...</td>\n",
       "      <td>Netflix|Prime Video|Disney+Hotstar|YoutubeOper...</td>\n",
       "      <td>29999.0</td>\n",
       "      <td>4.3</td>\n",
       "      <td>Android</td>\n",
       "      <td>realme</td>\n",
       "      <td>60</td>\n",
       "      <td>24</td>\n",
       "    </tr>\n",
       "    <tr>\n",
       "      <th>4</th>\n",
       "      <td>Thomson 9A Series 80 cm (32 inch) HD Ready LED...</td>\n",
       "      <td>Prime Video|Disney+Hotstar|YoutubeOperating Sy...</td>\n",
       "      <td>12499.0</td>\n",
       "      <td>4.4</td>\n",
       "      <td>Android</td>\n",
       "      <td>Thomson</td>\n",
       "      <td>60</td>\n",
       "      <td>24</td>\n",
       "    </tr>\n",
       "    <tr>\n",
       "      <th>...</th>\n",
       "      <td>...</td>\n",
       "      <td>...</td>\n",
       "      <td>...</td>\n",
       "      <td>...</td>\n",
       "      <td>...</td>\n",
       "      <td>...</td>\n",
       "      <td>...</td>\n",
       "      <td>...</td>\n",
       "    </tr>\n",
       "    <tr>\n",
       "      <th>907</th>\n",
       "      <td>Akai 60.96 cm (24 inch) HD Ready LED TV</td>\n",
       "      <td>HD Ready 1366×768 Pixels10W x 2 Speaker Output...</td>\n",
       "      <td>11500.0</td>\n",
       "      <td>4.2</td>\n",
       "      <td>Android</td>\n",
       "      <td>Akai</td>\n",
       "      <td>60</td>\n",
       "      <td>20</td>\n",
       "    </tr>\n",
       "    <tr>\n",
       "      <th>908</th>\n",
       "      <td>Sharp E88 60 cm (24 inch) HD Ready LED TV</td>\n",
       "      <td>HD Ready 1280 x 720 Pixels20 W Speaker Output1...</td>\n",
       "      <td>8999.0</td>\n",
       "      <td>3.7</td>\n",
       "      <td>Android</td>\n",
       "      <td>Sharp</td>\n",
       "      <td>100</td>\n",
       "      <td>20</td>\n",
       "    </tr>\n",
       "    <tr>\n",
       "      <th>909</th>\n",
       "      <td>IMPEX 80 cm (32 inch) HD Ready LED TV</td>\n",
       "      <td>Operating System: HomeOSHD Ready 1366 x 768 Pi...</td>\n",
       "      <td>17490.0</td>\n",
       "      <td>4.3</td>\n",
       "      <td>Android</td>\n",
       "      <td>IMPEX</td>\n",
       "      <td>50</td>\n",
       "      <td>16</td>\n",
       "    </tr>\n",
       "    <tr>\n",
       "      <th>910</th>\n",
       "      <td>Dektron 50 cm (20 inch) HD Ready LED TV</td>\n",
       "      <td>HD Ready 1366 x 768 Pixels16 W Speaker Output6...</td>\n",
       "      <td>7399.0</td>\n",
       "      <td>3.8</td>\n",
       "      <td>Android</td>\n",
       "      <td>Dektron</td>\n",
       "      <td>60</td>\n",
       "      <td>16</td>\n",
       "    </tr>\n",
       "    <tr>\n",
       "      <th>911</th>\n",
       "      <td>AISEN 124 cm (49 inch) Ultra HD (4K) LED Smart TV</td>\n",
       "      <td>Netflix|Disney+Hotstar|YoutubeOperating System...</td>\n",
       "      <td>47900.0</td>\n",
       "      <td>4.2</td>\n",
       "      <td>Android</td>\n",
       "      <td>AISEN</td>\n",
       "      <td>60</td>\n",
       "      <td>16</td>\n",
       "    </tr>\n",
       "  </tbody>\n",
       "</table>\n",
       "<p>644 rows × 8 columns</p>\n",
       "</div>"
      ],
      "text/plain": [
       "                                   Name of the Product  \\\n",
       "0                Adsun 80 cm (32 inch) HD Ready LED TV   \n",
       "1                Adsun 60 cm (24 inch) HD Ready LED TV   \n",
       "2    realme 80 cm (32 inch) HD Ready LED Smart Andr...   \n",
       "3    realme 108 cm (43 inch) Ultra HD (4K) LED Smar...   \n",
       "4    Thomson 9A Series 80 cm (32 inch) HD Ready LED...   \n",
       "..                                                 ...   \n",
       "907            Akai 60.96 cm (24 inch) HD Ready LED TV   \n",
       "908          Sharp E88 60 cm (24 inch) HD Ready LED TV   \n",
       "909              IMPEX 80 cm (32 inch) HD Ready LED TV   \n",
       "910            Dektron 50 cm (20 inch) HD Ready LED TV   \n",
       "911  AISEN 124 cm (49 inch) Ultra HD (4K) LED Smart TV   \n",
       "\n",
       "                                        Specifications    Price  Rating  \\\n",
       "0    HD Ready 1366 x 768 Pixels20 W Speaker Output6...   8499.0     3.8   \n",
       "1    HD Ready 1366 x 768 Pixels20 W Speaker Output6...   6499.0     3.8   \n",
       "2    Netflix|Prime Video|Disney+Hotstar|YoutubeOper...  15999.0     4.3   \n",
       "3    Netflix|Prime Video|Disney+Hotstar|YoutubeOper...  29999.0     4.3   \n",
       "4    Prime Video|Disney+Hotstar|YoutubeOperating Sy...  12499.0     4.4   \n",
       "..                                                 ...      ...     ...   \n",
       "907  HD Ready 1366×768 Pixels10W x 2 Speaker Output...  11500.0     4.2   \n",
       "908  HD Ready 1280 x 720 Pixels20 W Speaker Output1...   8999.0     3.7   \n",
       "909  Operating System: HomeOSHD Ready 1366 x 768 Pi...  17490.0     4.3   \n",
       "910  HD Ready 1366 x 768 Pixels16 W Speaker Output6...   7399.0     3.8   \n",
       "911  Netflix|Disney+Hotstar|YoutubeOperating System...  47900.0     4.2   \n",
       "\n",
       "    Operating_System    Brand  Refresh_Rate(inHz)  Speaker_Output(in W)  \n",
       "0            Android    Adsun                  60                    20  \n",
       "1            Android    Adsun                  60                    20  \n",
       "2            Android   realme                  60                    24  \n",
       "3            Android   realme                  60                    24  \n",
       "4            Android  Thomson                  60                    24  \n",
       "..               ...      ...                 ...                   ...  \n",
       "907          Android     Akai                  60                    20  \n",
       "908          Android    Sharp                 100                    20  \n",
       "909          Android    IMPEX                  50                    16  \n",
       "910          Android  Dektron                  60                    16  \n",
       "911          Android    AISEN                  60                    16  \n",
       "\n",
       "[644 rows x 8 columns]"
      ]
     },
     "execution_count": 26,
     "metadata": {},
     "output_type": "execute_result"
    }
   ],
   "source": [
    "df3.get_group('Android')"
   ]
  },
  {
   "cell_type": "markdown",
   "id": "f706a8f7",
   "metadata": {},
   "source": [
    "### Categorial Variable"
   ]
  },
  {
   "cell_type": "code",
   "execution_count": 27,
   "id": "8acb1a54",
   "metadata": {},
   "outputs": [
    {
     "data": {
      "text/plain": [
       "Android      644\n",
       "Tizen        139\n",
       "WebOS         93\n",
       "Linux         30\n",
       "Google TV      6\n",
       "Name: Operating_System, dtype: int64"
      ]
     },
     "execution_count": 27,
     "metadata": {},
     "output_type": "execute_result"
    }
   ],
   "source": [
    "df['Operating_System'].value_counts()"
   ]
  },
  {
   "cell_type": "code",
   "execution_count": 28,
   "id": "8117a0d5",
   "metadata": {},
   "outputs": [
    {
     "data": {
      "text/plain": [
       "SAMSUNG        159\n",
       "Adsun          136\n",
       "LG             109\n",
       "kinger          56\n",
       "SONY            40\n",
       "TCL             30\n",
       "Croma           30\n",
       "Thomson         22\n",
       "Mi              18\n",
       "MOTOROLA        17\n",
       "iFFALCON        15\n",
       "Sansui          15\n",
       "Panasonic       14\n",
       "Micromax        14\n",
       "Vu              13\n",
       "KODAK           13\n",
       "Hisense         13\n",
       "Haier           12\n",
       "Nokia           11\n",
       "TOSHIBA          9\n",
       "Lloyd            9\n",
       "Blaupunkt        8\n",
       "Compaq           8\n",
       "PHILIPS          7\n",
       "Coocaa           7\n",
       "OnePlus          7\n",
       "T-Series         7\n",
       "realme           7\n",
       "RGL              7\n",
       "BPL              6\n",
       "Akai             6\n",
       "Dyanora          6\n",
       "LumX             6\n",
       "acer             6\n",
       "VG               5\n",
       "JVC              5\n",
       "MarQ             5\n",
       "Onix             5\n",
       "Infinix          5\n",
       "IMPEX            5\n",
       "HUIDI            4\n",
       "Sharp            4\n",
       "Nacson           3\n",
       "Oxygen           3\n",
       "Candes           3\n",
       "AISEN            3\n",
       "Dektron          3\n",
       "CloudWalker      2\n",
       "DETEL            2\n",
       "Daiwa            2\n",
       "Blackox          2\n",
       "INB              1\n",
       "Hyundai          1\n",
       "NOKIA            1\n",
       "Intex            1\n",
       "Skyworth         1\n",
       "ONIDA            1\n",
       "Kevin            1\n",
       "DACS             1\n",
       "Name: Brand, dtype: int64"
      ]
     },
     "execution_count": 28,
     "metadata": {},
     "output_type": "execute_result"
    }
   ],
   "source": [
    "df['Brand'].value_counts()"
   ]
  },
  {
   "cell_type": "code",
   "execution_count": 29,
   "id": "b62dd2bb",
   "metadata": {},
   "outputs": [
    {
     "data": {
      "text/plain": [
       "<bound method NDFrame.describe of 0      Android\n",
       "1      Android\n",
       "2      Android\n",
       "3      Android\n",
       "4      Android\n",
       "        ...   \n",
       "907    Android\n",
       "908    Android\n",
       "909    Android\n",
       "910    Android\n",
       "911    Android\n",
       "Name: Operating_System, Length: 912, dtype: object>"
      ]
     },
     "execution_count": 29,
     "metadata": {},
     "output_type": "execute_result"
    }
   ],
   "source": [
    "df['Operating_System'].describe"
   ]
  },
  {
   "cell_type": "code",
   "execution_count": 30,
   "id": "c62d0fa5",
   "metadata": {},
   "outputs": [
    {
     "data": {
      "text/plain": [
       "<bound method NDFrame.describe of 0        Adsun\n",
       "1        Adsun\n",
       "2       realme\n",
       "3       realme\n",
       "4      Thomson\n",
       "        ...   \n",
       "907       Akai\n",
       "908      Sharp\n",
       "909      IMPEX\n",
       "910    Dektron\n",
       "911      AISEN\n",
       "Name: Brand, Length: 912, dtype: object>"
      ]
     },
     "execution_count": 30,
     "metadata": {},
     "output_type": "execute_result"
    }
   ],
   "source": [
    "df['Brand'].describe"
   ]
  },
  {
   "cell_type": "markdown",
   "id": "16948fa2",
   "metadata": {},
   "source": [
    "### Count Plot for Categorial Variable"
   ]
  },
  {
   "cell_type": "code",
   "execution_count": 31,
   "id": "40168ce4",
   "metadata": {},
   "outputs": [
    {
     "data": {
      "image/png": "[encoded data removed]",
      "text/plain": [
       "<Figure size 576x576 with 1 Axes>"
      ]
     },
     "metadata": {
      "needs_background": "light"
     },
     "output_type": "display_data"
    }
   ],
   "source": [
    "plt.figure(figsize=(8,8))\n",
    "sns.countplot(x='Brand',data=df,order=df['Brand'].value_counts().iloc[:5].index)\n",
    "plt.title('Count Plot for Brand')\n",
    "plt.show()"
   ]
  },
  {
   "cell_type": "markdown",
   "id": "b6fae9ad",
   "metadata": {},
   "source": [
    "The SAMSUNG Brand have more number of count when compared to others Brand."
   ]
  },
  {
   "cell_type": "code",
   "execution_count": 32,
   "id": "37e60319",
   "metadata": {},
   "outputs": [
    {
     "data": {
      "text/plain": [
       "SAMSUNG        159\n",
       "Adsun          136\n",
       "LG             109\n",
       "kinger          56\n",
       "SONY            40\n",
       "TCL             30\n",
       "Croma           30\n",
       "Thomson         22\n",
       "Mi              18\n",
       "MOTOROLA        17\n",
       "iFFALCON        15\n",
       "Sansui          15\n",
       "Panasonic       14\n",
       "Micromax        14\n",
       "Vu              13\n",
       "KODAK           13\n",
       "Hisense         13\n",
       "Haier           12\n",
       "Nokia           11\n",
       "TOSHIBA          9\n",
       "Lloyd            9\n",
       "Blaupunkt        8\n",
       "Compaq           8\n",
       "PHILIPS          7\n",
       "Coocaa           7\n",
       "OnePlus          7\n",
       "T-Series         7\n",
       "realme           7\n",
       "RGL              7\n",
       "BPL              6\n",
       "Akai             6\n",
       "Dyanora          6\n",
       "LumX             6\n",
       "acer             6\n",
       "VG               5\n",
       "JVC              5\n",
       "MarQ             5\n",
       "Onix             5\n",
       "Infinix          5\n",
       "IMPEX            5\n",
       "HUIDI            4\n",
       "Sharp            4\n",
       "Nacson           3\n",
       "Oxygen           3\n",
       "Candes           3\n",
       "AISEN            3\n",
       "Dektron          3\n",
       "CloudWalker      2\n",
       "DETEL            2\n",
       "Daiwa            2\n",
       "Blackox          2\n",
       "INB              1\n",
       "Hyundai          1\n",
       "NOKIA            1\n",
       "Intex            1\n",
       "Skyworth         1\n",
       "ONIDA            1\n",
       "Kevin            1\n",
       "DACS             1\n",
       "Name: Brand, dtype: int64"
      ]
     },
     "execution_count": 32,
     "metadata": {},
     "output_type": "execute_result"
    }
   ],
   "source": [
    "df['Brand'].value_counts()"
   ]
  },
  {
   "cell_type": "markdown",
   "id": "1cca3686",
   "metadata": {},
   "source": [
    "The above plot show us Count plot for OPerating_System. The Android Operating_System has more no of frequency when compared to other OPerating_System in this website."
   ]
  },
  {
   "cell_type": "markdown",
   "id": "b5d5cf4e",
   "metadata": {},
   "source": [
    "### Bar Plot for Categorial Variable"
   ]
  },
  {
   "cell_type": "code",
   "execution_count": 33,
   "id": "9a94712d",
   "metadata": {},
   "outputs": [
    {
     "data": {
      "image/png": "[encoded data removed]",
      "text/plain": [
       "<Figure size 576x576 with 1 Axes>"
      ]
     },
     "metadata": {
      "needs_background": "light"
     },
     "output_type": "display_data"
    }
   ],
   "source": [
    "plt.figure(figsize=(8,8))\n",
    "sns.barplot(x=df['Operating_System'],y=df['Rating'],data=df)\n",
    "plt.title('Bar Plot for Operating_System and Rating')\n",
    "plt.show()"
   ]
  },
  {
   "cell_type": "markdown",
   "id": "3d29664f",
   "metadata": {},
   "source": [
    "The above plot show us Bar Plot for Operating_System and Rating. The Google TV has good rating of above 4.0 in this website."
   ]
  },
  {
   "cell_type": "markdown",
   "id": "ff3adee0",
   "metadata": {},
   "source": [
    "### Pie Chart for Categorial Variable "
   ]
  },
  {
   "cell_type": "code",
   "execution_count": 34,
   "id": "bdefc2de",
   "metadata": {},
   "outputs": [
    {
     "data": {
      "image/png": "[encoded data removed]",
      "text/plain": [
       "<Figure size 432x288 with 1 Axes>"
      ]
     },
     "metadata": {},
     "output_type": "display_data"
    }
   ],
   "source": [
    "labels = ['Android','Tizen','WebOS','Google TV','Linux']\n",
    "plt.pie(df['Operating_System'].value_counts(),labels=labels,autopct='%1.1f%%',data=df,counterclock=True)\n",
    "plt.title('Pie chart for Operating_System')\n",
    "plt.show()"
   ]
  },
  {
   "cell_type": "raw",
   "id": "90f3d71c",
   "metadata": {},
   "source": [
    "The above plot show us Pie chart for Opertaing_System. The 70% of the member are using Android Operating_System and 0.7% of the member are using Linux Operating_System "
   ]
  },
  {
   "cell_type": "code",
   "execution_count": 35,
   "id": "ec5da721",
   "metadata": {},
   "outputs": [
    {
     "data": {
      "text/plain": [
       "Android      644\n",
       "Tizen        139\n",
       "WebOS         93\n",
       "Linux         30\n",
       "Google TV      6\n",
       "Name: Operating_System, dtype: int64"
      ]
     },
     "execution_count": 35,
     "metadata": {},
     "output_type": "execute_result"
    }
   ],
   "source": [
    "df['Operating_System'].value_counts()"
   ]
  },
  {
   "cell_type": "markdown",
   "id": "5222ff0f",
   "metadata": {},
   "source": [
    "### Bivariate Analysis"
   ]
  },
  {
   "cell_type": "markdown",
   "id": "6c746024",
   "metadata": {},
   "source": [
    "### Box Plot for Bivariate Analysis"
   ]
  },
  {
   "cell_type": "code",
   "execution_count": 36,
   "id": "e5f32689",
   "metadata": {},
   "outputs": [
    {
     "data": {
      "image/png": "[encoded data removed]",
      "text/plain": [
       "<Figure size 1440x576 with 1 Axes>"
      ]
     },
     "metadata": {
      "needs_background": "light"
     },
     "output_type": "display_data"
    }
   ],
   "source": [
    "plt.figure(figsize=(20,8))\n",
    "sns.boxplot(x=df['Price'],y=df['Operating_System'],data=df,whis=2)\n",
    "plt.title('Box Plot for Price and Operating_System')\n",
    "plt.show()"
   ]
  },
  {
   "cell_type": "markdown",
   "id": "60f20f8b",
   "metadata": {},
   "source": [
    "The above plot show us Box plot. The Box plot for Android have more outliers and have a price range between 0 to 100000.\n",
    "The Box Plot for WebOS have less Outliers and have a price between 0 to 200000.\n",
    "The Box Plot for Linux  has no outliers and have a price at an average of 0 to 100000."
   ]
  },
  {
   "cell_type": "markdown",
   "id": "3fa06683",
   "metadata": {},
   "source": [
    "### Bar plot for Bivariate Analysis"
   ]
  },
  {
   "cell_type": "code",
   "execution_count": 37,
   "id": "f99bc52d",
   "metadata": {},
   "outputs": [
    {
     "data": {
      "image/png": "[encoded data removed]",
      "text/plain": [
       "<Figure size 720x576 with 1 Axes>"
      ]
     },
     "metadata": {
      "needs_background": "light"
     },
     "output_type": "display_data"
    }
   ],
   "source": [
    "plt.figure(figsize=(10,8))\n",
    "sns.barplot(x=df['Brand'],y=df['Rating'],order=df['Brand'].value_counts().iloc[:5].index,data=df)\n",
    "plt.title('Bar Plot for Brand and Rating ')\n",
    "plt.show()"
   ]
  },
  {
   "cell_type": "markdown",
   "id": "8b8c28a8",
   "metadata": {},
   "source": [
    "The Bar Plot for Brand and Rating.\n",
    "The SAMSUNG and LG and Kinger and Sony Brand have a range above 4.0 rating.\n",
    "The Adsun Brand has a average range between 3.0 to 4.0 rating"
   ]
  },
  {
   "cell_type": "markdown",
   "id": "35c83f3e",
   "metadata": {},
   "source": [
    "### Scatter Plot for Bivariate Analysis"
   ]
  },
  {
   "cell_type": "code",
   "execution_count": 38,
   "id": "2ac42036",
   "metadata": {},
   "outputs": [
    {
     "data": {
      "image/png": "[encoded data removed]",
      "text/plain": [
       "<Figure size 1440x576 with 1 Axes>"
      ]
     },
     "metadata": {
      "needs_background": "light"
     },
     "output_type": "display_data"
    }
   ],
   "source": [
    "plt.figure(figsize=(20,8))\n",
    "sns.scatterplot(x=df['Operating_System'],y=df['Price'],data=df)\n",
    "plt.title('Scatter Plot for Operating_System and Price')\n",
    "plt.show()"
   ]
  },
  {
   "cell_type": "markdown",
   "id": "ea09c58d",
   "metadata": {},
   "source": [
    "The above plot show as Scatter Plot for each Operating_System with each price.The Android and Web and Tizen Operating_System have high price in the region from 0 to 200000. The highest price contain for Tizen with the cost of 6 Lakhs. "
   ]
  },
  {
   "cell_type": "markdown",
   "id": "88db9b95",
   "metadata": {},
   "source": [
    "### Violin Plot for Bivariate Analysis"
   ]
  },
  {
   "cell_type": "code",
   "execution_count": 39,
   "id": "0d9baf8d",
   "metadata": {},
   "outputs": [
    {
     "data": {
      "image/png": "[encoded data removed]",
      "text/plain": [
       "<Figure size 1440x576 with 1 Axes>"
      ]
     },
     "metadata": {
      "needs_background": "light"
     },
     "output_type": "display_data"
    }
   ],
   "source": [
    "plt.figure(figsize=(20,8))\n",
    "sns.violinplot(x=df['Brand'],y=df['Speaker_Output(in W)'],data=df,order=df['Brand'].value_counts().iloc[:5].index)\n",
    "plt.title('Violin Plot for Brand and Speaker_Output(in W)')\n",
    "plt.show()"
   ]
  },
  {
   "cell_type": "markdown",
   "id": "1801980d",
   "metadata": {},
   "source": [
    "The SAMSUNG Brand has good Speaker_Output(in W) with 20W and slight less 40W and less in 60W.\n",
    "The LG Brand has more Speaker_Output(in W) in 20W and slight less in 40W and even less in 60W.\n",
    "The Kinger and Adsun Brand have only one Speaker_Output(in W) in 20W.\n",
    "The SONY Brand have a good Speaker_Output(in W) in 20W."
   ]
  },
  {
   "cell_type": "markdown",
   "id": "d55a5945",
   "metadata": {},
   "source": [
    "### Hist Plot for Bivariate Analysis"
   ]
  },
  {
   "cell_type": "code",
   "execution_count": 40,
   "id": "fb63ab56",
   "metadata": {},
   "outputs": [
    {
     "data": {
      "image/png": "[encoded data removed]",
      "text/plain": [
       "<Figure size 1440x576 with 1 Axes>"
      ]
     },
     "metadata": {
      "needs_background": "light"
     },
     "output_type": "display_data"
    }
   ],
   "source": [
    "plt.figure(figsize=(20,8))\n",
    "sns.histplot(x=df['Price'],y=df['Rating'],data=df)\n",
    "plt.title('Hist Plot for Price and Rating')\n",
    "plt.show()"
   ]
  },
  {
   "cell_type": "markdown",
   "id": "07185b90",
   "metadata": {},
   "source": [
    "The above plot show us Hist Plot for each Price and each Rating. The Price with respect to Rating is more in the region from 3.5 to 4 and the Price is more in the region from 0 to 1Lakh."
   ]
  },
  {
   "cell_type": "markdown",
   "id": "3026108c",
   "metadata": {},
   "source": [
    "### Heat Map"
   ]
  },
  {
   "cell_type": "code",
   "execution_count": 41,
   "id": "700ceb50",
   "metadata": {},
   "outputs": [
    {
     "data": {
      "text/html": [
       "<div>\n",
       "<style scoped>\n",
       "    .dataframe tbody tr th:only-of-type {\n",
       "        vertical-align: middle;\n",
       "    }\n",
       "\n",
       "    .dataframe tbody tr th {\n",
       "        vertical-align: top;\n",
       "    }\n",
       "\n",
       "    .dataframe thead th {\n",
       "        text-align: right;\n",
       "    }\n",
       "</style>\n",
       "<table border=\"1\" class=\"dataframe\">\n",
       "  <thead>\n",
       "    <tr style=\"text-align: right;\">\n",
       "      <th></th>\n",
       "      <th>Price</th>\n",
       "      <th>Rating</th>\n",
       "      <th>Refresh_Rate(inHz)</th>\n",
       "      <th>Speaker_Output(in W)</th>\n",
       "    </tr>\n",
       "  </thead>\n",
       "  <tbody>\n",
       "    <tr>\n",
       "      <th>Price</th>\n",
       "      <td>1.000000</td>\n",
       "      <td>0.220362</td>\n",
       "      <td>0.018564</td>\n",
       "      <td>0.376926</td>\n",
       "    </tr>\n",
       "    <tr>\n",
       "      <th>Rating</th>\n",
       "      <td>0.220362</td>\n",
       "      <td>1.000000</td>\n",
       "      <td>0.029725</td>\n",
       "      <td>0.262441</td>\n",
       "    </tr>\n",
       "    <tr>\n",
       "      <th>Refresh_Rate(inHz)</th>\n",
       "      <td>0.018564</td>\n",
       "      <td>0.029725</td>\n",
       "      <td>1.000000</td>\n",
       "      <td>-0.016304</td>\n",
       "    </tr>\n",
       "    <tr>\n",
       "      <th>Speaker_Output(in W)</th>\n",
       "      <td>0.376926</td>\n",
       "      <td>0.262441</td>\n",
       "      <td>-0.016304</td>\n",
       "      <td>1.000000</td>\n",
       "    </tr>\n",
       "  </tbody>\n",
       "</table>\n",
       "</div>"
      ],
      "text/plain": [
       "                         Price    Rating  Refresh_Rate(inHz)  \\\n",
       "Price                 1.000000  0.220362            0.018564   \n",
       "Rating                0.220362  1.000000            0.029725   \n",
       "Refresh_Rate(inHz)    0.018564  0.029725            1.000000   \n",
       "Speaker_Output(in W)  0.376926  0.262441           -0.016304   \n",
       "\n",
       "                      Speaker_Output(in W)  \n",
       "Price                             0.376926  \n",
       "Rating                            0.262441  \n",
       "Refresh_Rate(inHz)               -0.016304  \n",
       "Speaker_Output(in W)              1.000000  "
      ]
     },
     "execution_count": 41,
     "metadata": {},
     "output_type": "execute_result"
    }
   ],
   "source": [
    "df.corr()"
   ]
  },
  {
   "cell_type": "code",
   "execution_count": 42,
   "id": "ff57ea62",
   "metadata": {},
   "outputs": [
    {
     "data": {
      "image/png": "[encoded data removed]",
      "text/plain": [
       "<Figure size 432x288 with 2 Axes>"
      ]
     },
     "metadata": {
      "needs_background": "light"
     },
     "output_type": "display_data"
    }
   ],
   "source": [
    "sns.heatmap(df.corr(),annot=True,linewidths=0.95)\n",
    "plt.show()"
   ]
  },
  {
   "cell_type": "markdown",
   "id": "83d8c702",
   "metadata": {},
   "source": [
    "The above plot show us as Heat Map for Correlation between Price,Rating,Speaker_Output(in W) and Refresh_Rate(in Hz).\n",
    "The Diagnol represents 1 for each individual's variable in x and y axis. \n",
    "The Speaker_Output(in W) and Price have highest value and the Refresh_Rate(in Hz) and Speaker_Output(in W) have lowest value."
   ]
  },
  {
   "cell_type": "markdown",
   "id": "897c9009",
   "metadata": {},
   "source": [
    "### Multivariate Analysis"
   ]
  },
  {
   "cell_type": "markdown",
   "id": "3343ec96",
   "metadata": {},
   "source": [
    "### Scatter Plot for Multivariate Analysis"
   ]
  },
  {
   "cell_type": "code",
   "execution_count": 43,
   "id": "813e0a3c",
   "metadata": {},
   "outputs": [
    {
     "data": {
      "image/png": "[encoded data removed]",
      "text/plain": [
       "<Figure size 1440x576 with 1 Axes>"
      ]
     },
     "metadata": {
      "needs_background": "light"
     },
     "output_type": "display_data"
    }
   ],
   "source": [
    "plt.figure(figsize=(20,8))\n",
    "sns.scatterplot(x=df['Speaker_Output(in W)'],y=df['Price'],data=df,hue='Operating_System')\n",
    "plt.title('Scatter Plot for Speaker_Output(in W) and Price')\n",
    "plt.show()"
   ]
  },
  {
   "cell_type": "markdown",
   "id": "66cc1cab",
   "metadata": {},
   "source": [
    "The above plot show as Scatter plot between Speaker_Output(in W) and Price for each Operating_System.\n",
    "The Speaker_Output(in W) of Android Operating_System uses more when compared to Others Brand.\n",
    "The 20W Speaker_Output(in W) have more scatter plot.\n",
    "The Highest Scatter Plot contain for 40W at a cost of 6 lakhs."
   ]
  },
  {
   "cell_type": "markdown",
   "id": "d9075661",
   "metadata": {},
   "source": [
    "### Bar Plot for Multivariate Analysis"
   ]
  },
  {
   "cell_type": "code",
   "execution_count": 44,
   "id": "0226d70a",
   "metadata": {},
   "outputs": [
    {
     "data": {
      "image/png": "[encoded data removed]",
      "text/plain": [
       "<Figure size 1440x576 with 1 Axes>"
      ]
     },
     "metadata": {
      "needs_background": "light"
     },
     "output_type": "display_data"
    }
   ],
   "source": [
    "plt.figure(figsize=(20,8))\n",
    "sns.barplot(x=df['Operating_System'],y=df['Rating'],data=df,hue='Speaker_Output(in W)')\n",
    "plt.title('Bar Plot for Operating_System and Price')\n",
    "plt.show()"
   ]
  },
  {
   "cell_type": "markdown",
   "id": "e1e4bc94",
   "metadata": {},
   "source": [
    "Android has more options related to Speaker_Output with average ratings ranging from 3 to 5.\n",
    "Android has both least Rating above 3 and highest Rating 5.\n",
    "Tizen have four options in Speaker_Output(in W) with ratings of above 3.0 and 4.0.  \n",
    "Webos and Linux has five options in speaker outputs with average ratings of 4 and above.\n",
    "Google TV has only one type with Rating of 4.5"
   ]
  },
  {
   "cell_type": "markdown",
   "id": "d50bd00c",
   "metadata": {},
   "source": [
    "### Box Plot for Multivariate Analysis"
   ]
  },
  {
   "cell_type": "code",
   "execution_count": 45,
   "id": "b529325f",
   "metadata": {
    "scrolled": false
   },
   "outputs": [
    {
     "data": {
      "image/png": "[encoded data removed]",
      "text/plain": [
       "<Figure size 1440x576 with 1 Axes>"
      ]
     },
     "metadata": {
      "needs_background": "light"
     },
     "output_type": "display_data"
    }
   ],
   "source": [
    "plt.figure(figsize=(20,8))\n",
    "sns.boxplot(x=df['Operating_System'],y=df['Price'],data=df,hue='Refresh_Rate(inHz)')\n",
    "plt.title('Box Plot for Operating_System and Price')\n",
    "plt.show()"
   ]
  },
  {
   "cell_type": "markdown",
   "id": "88570a36",
   "metadata": {},
   "source": [
    "The above plot shows as Box plot for each Operating_System.\n",
    "The Box plot having Android Operating_System has more Refresh_Rate(inHz) and less in  Google TV."
   ]
  },
  {
   "cell_type": "markdown",
   "id": "39a8d8d7",
   "metadata": {},
   "source": [
    "### Violin Plot for Multivariate Analysis"
   ]
  },
  {
   "cell_type": "code",
   "execution_count": 46,
   "id": "a347cbe0",
   "metadata": {},
   "outputs": [
    {
     "data": {
      "image/png": "[encoded data removed]",
      "text/plain": [
       "<Figure size 1440x576 with 1 Axes>"
      ]
     },
     "metadata": {
      "needs_background": "light"
     },
     "output_type": "display_data"
    }
   ],
   "source": [
    "plt.figure(figsize=(20,8))\n",
    "sns.violinplot(x=df['Brand'],y=df['Price'],data=df,hue='Operating_System',order=df['Brand'].value_counts().iloc[:5].index)\n",
    "plt.title('Violin Plot for Brand and Price')\n",
    "plt.show()"
   ]
  },
  {
   "cell_type": "markdown",
   "id": "43aa7411",
   "metadata": {},
   "source": [
    "The above Plot show us Violin Plot for each Brand with each Price.The LG and SAMSUNG and SONY Brand has 3 types of Operating_System.The Adsun and Kinger Brand has 1 type of Operating_System. "
   ]
  },
  {
   "cell_type": "markdown",
   "id": "791763b0",
   "metadata": {},
   "source": [
    "### Strip Plot for Multivariate Analysis"
   ]
  },
  {
   "cell_type": "code",
   "execution_count": 47,
   "id": "fb525ed8",
   "metadata": {},
   "outputs": [
    {
     "data": {
      "image/png": "[encoded data removed]",
      "text/plain": [
       "<Figure size 1440x576 with 1 Axes>"
      ]
     },
     "metadata": {
      "needs_background": "light"
     },
     "output_type": "display_data"
    }
   ],
   "source": [
    "plt.figure(figsize=(20,8))\n",
    "sns.stripplot(x=df['Brand'],y=df['Rating'],data=df,hue='Operating_System',order=df['Brand'].value_counts().iloc[:5].index)\n",
    "plt.title('Strip Plot for Brand and Rating')\n",
    "plt.show()"
   ]
  },
  {
   "cell_type": "markdown",
   "id": "ff732133",
   "metadata": {},
   "source": [
    "The above PLot show us Strip plot for Brand and Rating. The SAMSUNG Brand have more Tizen Operating_System with an average rating of above 4.0 when comapred to others brand. \n",
    "The Adsun and Kinger Brand have only Android Operating_System with an rating of above between 3.5 and 4.5.\n",
    "The LG Brand have more WebOS Operating_System with an average rating of above 4.0.\n",
    "The SONY Brand have Android,Linux,Google TV Operating_System."
   ]
  },
  {
   "cell_type": "markdown",
   "id": "8fdbf55c",
   "metadata": {},
   "source": [
    "### Conclusion:"
   ]
  },
  {
   "cell_type": "markdown",
   "id": "02d3287c",
   "metadata": {},
   "source": [
    "I have done the web scraping on all the products contain in the Television on Flipkart website consists different type of products consists different types of Prices and Rating and Specifications like Brand,Speaker_Output(in W),Refresh_Rate(inHz)and Operating_System.\n",
    "\n",
    "By Using Visuliazation, I plot for Univariate Analysis like Hist Plot,Box Plot, Violin Plot,Distribution PLot for Numerical Variables.\n",
    "\n",
    "Various Plot for Bivariate Analysis and Multivariate Analysis like Bar Plot, Box Plot, Count Plot, Scatter-plot, Violin-plot,Distribution-plot for Numerical as well as Categorial Variable and vice-versa.\n",
    "\n",
    "The Rating was high from above 4 to 5 and is low from below 3.5.So it is to be increased from 3.5 rating and also with good specification which is avaliable for all for who are searching in this website.\n",
    "\n",
    "The Specifications is also satisfaction with some Speaker_Output(in W) and Refresh_Rate(in Hz) and Supported apps like Netflix, Prime Video, Disney Hotstar and Youtube and to improve the apps like Zee5, Voot, Store etc.. \n",
    "\n",
    "The Operating_System must be increases for Google TV, OnePlus, Adsun, Linux, Kinger.\n",
    "\n",
    "Most of the Television set have 20W Speaker_Output(in W) and 60Hz Refresh_Rate(in Hz) to increase the other Watts from Speaker_Output(in W) and other Hz from Refresh_Rate(in Hz).\n",
    "\n",
    "Television set have good Sound Technology and Resolution.\n",
    "\n",
    "Most of the Brand have Android Operating_System and to improve the specification of Operating_System like Linux, WebOS,GoogleTV,Tizen etc.  "
   ]
  },
  {
   "cell_type": "markdown",
   "id": "db6a936a",
   "metadata": {},
   "source": [
    "### Observations:"
   ]
  },
  {
   "cell_type": "markdown",
   "id": "d27a45df",
   "metadata": {},
   "source": [
    "I observed that the Operating_System like Android have several types of Speaker_Output(in W) and good Rating with above 4.0.\n",
    "The Web and Linux Operating_System have only five Speaker_Output(in W) and to improve the Specifications like Speaker_Output(in W) and Refresh_Rate(in Hz).\n",
    "\n",
    "Most of the Brand of the Television's set have 60Hz Refresh_Rate and 20W Speaker_Output(in W) and less when compared to 60Hz Refresh_Rate and 20W Speaker_Output.\n",
    "\n",
    "Most of the Brand in the Flipkart Website contain Samsung Brand and to increase the other brand products with good specifications according to future technology. \n",
    "\n",
    "Most of the brand have Android Operating_System and to increase other Operating_System.\n",
    "\n",
    "The Speaker_Output(in W) for Samsung,LG,Sony Brand have very good options for Operating_System and to improve the options for Adsun and Kinger and OnePlus Brand.\n",
    "\n",
    "In this Television Website, The Samsung Brand have more no of frequency and less in Nokia Brand.\n",
    "\n",
    "The Brand of Operating_System like Android,Tizen and Web OS has different option for Refresh_Rate(inHz) and to increase the others Refresh_Rate(inHz) which is avaliable in this website and to improve the Refresh_Rate(inHz) in Operating_System rather than those.\n",
    "\n",
    "According to Prices, The Price value between 0 to 1 Lakh have more Television product when compared the value above 1 Lakh is fewer Television products."
   ]
  },
  {
   "cell_type": "markdown",
   "id": "886c5a6b",
   "metadata": {},
   "source": [
    "### Questions and Answers: "
   ]
  },
  {
   "cell_type": "markdown",
   "id": "4b94d9e3",
   "metadata": {},
   "source": [
    "### 1.Which Brands have  good Rating?"
   ]
  },
  {
   "cell_type": "markdown",
   "id": "7bbb3167",
   "metadata": {},
   "source": [
    "Sony and Samsung and LG Brand have good rating at an average rate of 4.0."
   ]
  },
  {
   "cell_type": "markdown",
   "id": "4c24fa40",
   "metadata": {},
   "source": [
    "### 2.  Which Brand of Television have more no of count and Which Brand have more Popular among them?"
   ]
  },
  {
   "cell_type": "markdown",
   "id": "53a3bfae",
   "metadata": {},
   "source": [
    "SAMSUNG Brand have more no of count with 159 product stock in this website. SAMSUNG Brand have more popular in this website."
   ]
  },
  {
   "cell_type": "markdown",
   "id": "2b9f431e",
   "metadata": {},
   "source": [
    "### 3. Which Brands have more Speaker_Output(in W) and which Speaker_Output(in W) is used more in Television?"
   ]
  },
  {
   "cell_type": "markdown",
   "id": "559abdf4",
   "metadata": {},
   "source": [
    "Adsun Brand contain 136 Products having more 20W Speaker_Output(in W).\n",
    "\n",
    "SAMSUNG Brand contain 111 Products having more 20W Speaker_Output(in W).\n",
    "\n",
    "20W Speaker_Output(in W) is used more in the Television."
   ]
  },
  {
   "cell_type": "markdown",
   "id": "621bee8a",
   "metadata": {},
   "source": [
    "### 4. Which Brands have more Refresh_Rate(in Hz)?"
   ]
  },
  {
   "cell_type": "markdown",
   "id": "0afa4f52",
   "metadata": {},
   "source": [
    "Adsun Brand have 136 Products with 60Hz Refresh_Rate(in Hz).\n",
    "\n",
    "SAMSUNG Brand have 104 Products with 60Hz Refresh_Rate(in Hz)."
   ]
  },
  {
   "cell_type": "markdown",
   "id": "e2789107",
   "metadata": {},
   "source": [
    "### 5. Which Operating_System have used more and less in Television Product? "
   ]
  },
  {
   "cell_type": "markdown",
   "id": "382c3c0c",
   "metadata": {},
   "source": [
    "Android Operating_System have used more in Television with an total of 644 Products and Google TV have used less in Television with an total of 6 Products."
   ]
  },
  {
   "cell_type": "markdown",
   "id": "6f1e5330",
   "metadata": {},
   "source": [
    "### 6. Which Brand Have more Operating_System and which Operating_System is used more and less?"
   ]
  },
  {
   "cell_type": "markdown",
   "id": "55cc593c",
   "metadata": {},
   "source": [
    "SAMSUNG Brand have more Tizen and Android OPerating_System.\n",
    "\n",
    "Android Operating_System is used more in the Television set and GoogleTV have used less in Operating_System."
   ]
  },
  {
   "cell_type": "markdown",
   "id": "c4ae43b5",
   "metadata": {},
   "source": [
    "### 7. Which Operating_System have good rating among them?"
   ]
  },
  {
   "cell_type": "markdown",
   "id": "ec7f3c7e",
   "metadata": {},
   "source": [
    "The Google TV have an average rating of above 4.0."
   ]
  }
 ],
 "metadata": {
  "kernelspec": {
   "display_name": "Python 3 (ipykernel)",
   "language": "python",
   "name": "python3"
  },
  "language_info": {
   "codemirror_mode": {
    "name": "ipython",
    "version": 3
   },
   "file_extension": ".py",
   "mimetype": "text/x-python",
   "name": "python",
   "nbconvert_exporter": "python",
   "pygments_lexer": "ipython3",
   "version": "3.9.7"
  }
 },
 "nbformat": 4,
 "nbformat_minor": 5
}
